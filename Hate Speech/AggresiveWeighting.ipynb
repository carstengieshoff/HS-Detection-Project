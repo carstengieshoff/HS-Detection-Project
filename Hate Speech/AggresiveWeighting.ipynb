{
 "cells": [
  {
   "cell_type": "markdown",
   "metadata": {},
   "source": [
    "# Load Libraries"
   ]
  },
  {
   "cell_type": "code",
   "execution_count": 1,
   "metadata": {},
   "outputs": [],
   "source": [
    "import pandas as pd\n",
    "import numpy as np\n",
    "import pickle\n",
    "import sys\n",
    "from sklearn.feature_extraction.text import TfidfVectorizer\n",
    "import nltk\n",
    "from nltk.stem.porter import *\n",
    "import string\n",
    "import re\n",
    "from vaderSentiment.vaderSentiment import SentimentIntensityAnalyzer as VS\n",
    "from textstat.textstat import *\n",
    "from sklearn.linear_model import LogisticRegression\n",
    "from sklearn.feature_selection import SelectFromModel\n",
    "from sklearn.metrics import classification_report\n",
    "from sklearn.model_selection import train_test_split\n",
    "from sklearn.svm import LinearSVC\n",
    "import matplotlib.pyplot as plt\n",
    "import seaborn\n",
    "\n",
    "#new \n",
    "from nltk.tokenize.casual import casual_tokenize #casual_tokenize(text, preserve_case=True, reduce_len=False, strip_handles=False)\n",
    "from nltk.tokenize import TreebankWordTokenizer\n",
    "\n",
    "# Own functions\n",
    "from FeatureFunctions import *\n",
    "\n",
    "%matplotlib inline"
   ]
  },
  {
   "cell_type": "code",
   "execution_count": 2,
   "metadata": {},
   "outputs": [],
   "source": [
    "def get_weights(classes, exponent = 1):\n",
    "    # original balanced weights\n",
    "    class_weights_balanced = dict(zip([0,1,2],[len(classes)/(3*sum(classes==i)) for i in range(3)]))\n",
    "\n",
    "    # Expoentially weighted\n",
    "    Z = sum(val**exponent for key,val in class_weights_balanced.items())\n",
    "    class_weights_dict= dict(zip([0,1,2],[(val**exponent)/Z for key,val in class_weights_balanced.items()]))\n",
    "\n",
    "    # To tensor\n",
    "    #class_weights = torch.tensor([ value for value in class_weights_dict.values()]) \n",
    "    print(f'Weights to be used: {class_weights_dict.items()}')\n",
    "    return class_weights_dict"
   ]
  },
  {
   "cell_type": "markdown",
   "metadata": {},
   "source": [
    "# Notebook Setup\n",
    "\n",
    "This notebook is used to analyse the influence of more aggresive weighting of the hate speech class\n",
    " \n",
    "The overall setup is the casual_std setup from 'ComparingTokenizations.ipynb'.\n",
    "\n",
    "The weigting procedure is described in the underlying report."
   ]
  },
  {
   "cell_type": "code",
   "execution_count": 3,
   "metadata": {},
   "outputs": [],
   "source": [
    "#Save data to folder\n",
    "PREFIX = 'data/AggresiveWeighting/'\n",
    "TOKENIZER = 'casual_std'\n",
    "MIN_DF = 5\n",
    "MAX_DF = 0.75\n",
    "MAX_NGRAM = 3\n",
    "USE_STOPWORDS = True\n",
    "USE_PREPROCESS = False"
   ]
  },
  {
   "cell_type": "code",
   "execution_count": 4,
   "metadata": {},
   "outputs": [
    {
     "name": "stdout",
     "output_type": "stream",
     "text": [
      "A vocab was created. It consists of 10000 entries\n",
      "\n",
      " Data has been processed and is now available. Feature dim: (24783, 15017)\n"
     ]
    }
   ],
   "source": [
    "# Get data (indep of weighting)\n",
    "data = TweetsDataset(csv_path =  \"../data/labeled_data.csv\", tokenizer_name = TOKENIZER, use_stopwords = USE_STOPWORDS, use_preprocessor= USE_PREPROCESS, min_df = MIN_DF, max_df = MAX_DF, max_ngram = MAX_NGRAM)\n",
    "X = data.features\n",
    "y = data.labels"
   ]
  },
  {
   "cell_type": "markdown",
   "metadata": {},
   "source": [
    "# Exponent 1 (Standard Balanced Weighting)"
   ]
  },
  {
   "cell_type": "code",
   "execution_count": 5,
   "metadata": {},
   "outputs": [],
   "source": [
    "X_train, X_test, y_train, y_test = train_test_split(X, y, test_size = 0.1, random_state = 42)"
   ]
  },
  {
   "cell_type": "code",
   "execution_count": 6,
   "metadata": {},
   "outputs": [],
   "source": [
    "EXPONENT = 1\n",
    "WEIGHTS = 'balanced'"
   ]
  },
  {
   "cell_type": "markdown",
   "metadata": {},
   "source": [
    "## Build model\n"
   ]
  },
  {
   "cell_type": "code",
   "execution_count": 7,
   "metadata": {},
   "outputs": [
    {
     "name": "stdout",
     "output_type": "stream",
     "text": [
      "Deature dimension after dimensionality reduction: (22304, 264)\n"
     ]
    }
   ],
   "source": [
    "select = SelectFromModel(LogisticRegression(class_weight= 'balanced',penalty=\"l1\",C=0.01, solver ='liblinear', max_iter = 100))\n",
    "X_train = select.fit_transform(X_train,y_train)\n",
    "X_test = select.transform(X_test)\n",
    "print(f'Deature dimension after dimensionality reduction: {X_train.shape}')"
   ]
  },
  {
   "cell_type": "code",
   "execution_count": 8,
   "metadata": {},
   "outputs": [],
   "source": [
    "model = LogisticRegression(class_weight=WEIGHTS,penalty='l2',C=0.01, solver = 'liblinear').fit(X_train,y_train)\n",
    "y_preds = model.predict(X_test)"
   ]
  },
  {
   "cell_type": "markdown",
   "metadata": {},
   "source": [
    "## Evaluating the results"
   ]
  },
  {
   "cell_type": "code",
   "execution_count": 9,
   "metadata": {},
   "outputs": [],
   "source": [
    "report = classification_report(y_test, y_preds , output_dict=True)\n",
    "report_df = pd.DataFrame(report).transpose()\n",
    "report_df.to_csv(f'{PREFIX}_Expo{EXPONENT}_report.csv')"
   ]
  },
  {
   "cell_type": "code",
   "execution_count": 10,
   "metadata": {},
   "outputs": [
    {
     "data": {
      "text/html": [
       "<div>\n",
       "<style scoped>\n",
       "    .dataframe tbody tr th:only-of-type {\n",
       "        vertical-align: middle;\n",
       "    }\n",
       "\n",
       "    .dataframe tbody tr th {\n",
       "        vertical-align: top;\n",
       "    }\n",
       "\n",
       "    .dataframe thead th {\n",
       "        text-align: right;\n",
       "    }\n",
       "</style>\n",
       "<table border=\"1\" class=\"dataframe\">\n",
       "  <thead>\n",
       "    <tr style=\"text-align: right;\">\n",
       "      <th></th>\n",
       "      <th>precision</th>\n",
       "      <th>recall</th>\n",
       "      <th>f1-score</th>\n",
       "      <th>support</th>\n",
       "    </tr>\n",
       "  </thead>\n",
       "  <tbody>\n",
       "    <tr>\n",
       "      <th>0</th>\n",
       "      <td>0.443925</td>\n",
       "      <td>0.579268</td>\n",
       "      <td>0.502646</td>\n",
       "      <td>164.000000</td>\n",
       "    </tr>\n",
       "    <tr>\n",
       "      <th>1</th>\n",
       "      <td>0.959819</td>\n",
       "      <td>0.890289</td>\n",
       "      <td>0.923747</td>\n",
       "      <td>1905.000000</td>\n",
       "    </tr>\n",
       "    <tr>\n",
       "      <th>2</th>\n",
       "      <td>0.773092</td>\n",
       "      <td>0.939024</td>\n",
       "      <td>0.848018</td>\n",
       "      <td>410.000000</td>\n",
       "    </tr>\n",
       "    <tr>\n",
       "      <th>accuracy</th>\n",
       "      <td>0.877773</td>\n",
       "      <td>0.877773</td>\n",
       "      <td>0.877773</td>\n",
       "      <td>0.877773</td>\n",
       "    </tr>\n",
       "    <tr>\n",
       "      <th>macro avg</th>\n",
       "      <td>0.725612</td>\n",
       "      <td>0.802860</td>\n",
       "      <td>0.758137</td>\n",
       "      <td>2479.000000</td>\n",
       "    </tr>\n",
       "    <tr>\n",
       "      <th>weighted avg</th>\n",
       "      <td>0.894807</td>\n",
       "      <td>0.877773</td>\n",
       "      <td>0.883364</td>\n",
       "      <td>2479.000000</td>\n",
       "    </tr>\n",
       "  </tbody>\n",
       "</table>\n",
       "</div>"
      ],
      "text/plain": [
       "              precision    recall  f1-score      support\n",
       "0              0.443925  0.579268  0.502646   164.000000\n",
       "1              0.959819  0.890289  0.923747  1905.000000\n",
       "2              0.773092  0.939024  0.848018   410.000000\n",
       "accuracy       0.877773  0.877773  0.877773     0.877773\n",
       "macro avg      0.725612  0.802860  0.758137  2479.000000\n",
       "weighted avg   0.894807  0.877773  0.883364  2479.000000"
      ]
     },
     "execution_count": 10,
     "metadata": {},
     "output_type": "execute_result"
    }
   ],
   "source": [
    "report_df"
   ]
  },
  {
   "cell_type": "code",
   "execution_count": 11,
   "metadata": {},
   "outputs": [
    {
     "name": "stdout",
     "output_type": "stream",
     "text": [
      "Confusionmatrix was saved to data/AggresiveWeighting/_Expo1_confusion.png\n"
     ]
    },
    {
     "data": {
      "image/png": "[encoded data removed]",
      "text/plain": [
       "<Figure size 360x360 with 1 Axes>"
      ]
     },
     "metadata": {
      "needs_background": "light"
     },
     "output_type": "display_data"
    }
   ],
   "source": [
    "print_cm(y_test,y_preds, save_cm = True, save_path = (f'{PREFIX}_Expo{EXPONENT}_confusion.png'))"
   ]
  },
  {
   "cell_type": "markdown",
   "metadata": {},
   "source": [
    "# Exponent 1.25 "
   ]
  },
  {
   "cell_type": "code",
   "execution_count": 12,
   "metadata": {},
   "outputs": [],
   "source": [
    "# get data again untransformed\n",
    "X_train, X_test, y_train, y_test = train_test_split(X, y, test_size = 0.1, random_state = 42)"
   ]
  },
  {
   "cell_type": "code",
   "execution_count": 13,
   "metadata": {},
   "outputs": [
    {
     "name": "stdout",
     "output_type": "stream",
     "text": [
      "Weights to be used: dict_items([(0, 0.7720916387084936), (1, 0.029418752434066015), (2, 0.19848960885744033)])\n"
     ]
    }
   ],
   "source": [
    "EXPONENT = 1.25\n",
    "WEIGHTS = get_weights(classes = y_train, exponent = EXPONENT )"
   ]
  },
  {
   "cell_type": "markdown",
   "metadata": {},
   "source": [
    "## Build model\n"
   ]
  },
  {
   "cell_type": "code",
   "execution_count": 14,
   "metadata": {},
   "outputs": [
    {
     "name": "stdout",
     "output_type": "stream",
     "text": [
      "Deature dimension after dimensionality reduction: (22304, 264)\n"
     ]
    }
   ],
   "source": [
    "select = SelectFromModel(LogisticRegression(class_weight='balanced',penalty=\"l1\",C=0.01, solver ='liblinear', max_iter = 100))\n",
    "X_train = select.fit_transform(X_train,y_train)\n",
    "X_test = select.transform(X_test)\n",
    "print(f'Deature dimension after dimensionality reduction: {X_train.shape}')"
   ]
  },
  {
   "cell_type": "code",
   "execution_count": 15,
   "metadata": {},
   "outputs": [],
   "source": [
    "model = LogisticRegression(class_weight=WEIGHTS,penalty='l2',C=0.01, solver = 'liblinear').fit(X_train,y_train)\n",
    "y_preds = model.predict(X_test)"
   ]
  },
  {
   "cell_type": "markdown",
   "metadata": {},
   "source": [
    "## Evaluating the results"
   ]
  },
  {
   "cell_type": "code",
   "execution_count": 16,
   "metadata": {},
   "outputs": [],
   "source": [
    "report = classification_report( y_test, y_preds , output_dict=True)\n",
    "report_df = pd.DataFrame(report).transpose()\n",
    "report_df.to_csv(f'{PREFIX}_Expo{EXPONENT}_report.csv')"
   ]
  },
  {
   "cell_type": "code",
   "execution_count": 17,
   "metadata": {},
   "outputs": [
    {
     "data": {
      "text/html": [
       "<div>\n",
       "<style scoped>\n",
       "    .dataframe tbody tr th:only-of-type {\n",
       "        vertical-align: middle;\n",
       "    }\n",
       "\n",
       "    .dataframe tbody tr th {\n",
       "        vertical-align: top;\n",
       "    }\n",
       "\n",
       "    .dataframe thead th {\n",
       "        text-align: right;\n",
       "    }\n",
       "</style>\n",
       "<table border=\"1\" class=\"dataframe\">\n",
       "  <thead>\n",
       "    <tr style=\"text-align: right;\">\n",
       "      <th></th>\n",
       "      <th>precision</th>\n",
       "      <th>recall</th>\n",
       "      <th>f1-score</th>\n",
       "      <th>support</th>\n",
       "    </tr>\n",
       "  </thead>\n",
       "  <tbody>\n",
       "    <tr>\n",
       "      <th>0</th>\n",
       "      <td>0.411765</td>\n",
       "      <td>0.597561</td>\n",
       "      <td>0.487562</td>\n",
       "      <td>164.000000</td>\n",
       "    </tr>\n",
       "    <tr>\n",
       "      <th>1</th>\n",
       "      <td>0.956995</td>\n",
       "      <td>0.876115</td>\n",
       "      <td>0.914771</td>\n",
       "      <td>1905.000000</td>\n",
       "    </tr>\n",
       "    <tr>\n",
       "      <th>2</th>\n",
       "      <td>0.756539</td>\n",
       "      <td>0.917073</td>\n",
       "      <td>0.829107</td>\n",
       "      <td>410.000000</td>\n",
       "    </tr>\n",
       "    <tr>\n",
       "      <th>accuracy</th>\n",
       "      <td>0.864461</td>\n",
       "      <td>0.864461</td>\n",
       "      <td>0.864461</td>\n",
       "      <td>0.864461</td>\n",
       "    </tr>\n",
       "    <tr>\n",
       "      <th>macro avg</th>\n",
       "      <td>0.708433</td>\n",
       "      <td>0.796917</td>\n",
       "      <td>0.743813</td>\n",
       "      <td>2479.000000</td>\n",
       "    </tr>\n",
       "    <tr>\n",
       "      <th>weighted avg</th>\n",
       "      <td>0.887772</td>\n",
       "      <td>0.864461</td>\n",
       "      <td>0.872341</td>\n",
       "      <td>2479.000000</td>\n",
       "    </tr>\n",
       "  </tbody>\n",
       "</table>\n",
       "</div>"
      ],
      "text/plain": [
       "              precision    recall  f1-score      support\n",
       "0              0.411765  0.597561  0.487562   164.000000\n",
       "1              0.956995  0.876115  0.914771  1905.000000\n",
       "2              0.756539  0.917073  0.829107   410.000000\n",
       "accuracy       0.864461  0.864461  0.864461     0.864461\n",
       "macro avg      0.708433  0.796917  0.743813  2479.000000\n",
       "weighted avg   0.887772  0.864461  0.872341  2479.000000"
      ]
     },
     "execution_count": 17,
     "metadata": {},
     "output_type": "execute_result"
    }
   ],
   "source": [
    "report_df"
   ]
  },
  {
   "cell_type": "code",
   "execution_count": 18,
   "metadata": {},
   "outputs": [
    {
     "name": "stdout",
     "output_type": "stream",
     "text": [
      "Confusionmatrix was saved to data/AggresiveWeighting/_Expo1.25_confusion.png\n"
     ]
    },
    {
     "data": {
      "image/png": "[encoded data removed]",
      "text/plain": [
       "<Figure size 360x360 with 1 Axes>"
      ]
     },
     "metadata": {
      "needs_background": "light"
     },
     "output_type": "display_data"
    }
   ],
   "source": [
    "print_cm(y_test,y_preds, save_cm = True, save_path = (f'{PREFIX}_Expo{EXPONENT}_confusion.png'))"
   ]
  },
  {
   "cell_type": "markdown",
   "metadata": {},
   "source": [
    "# Exponent 1.5 "
   ]
  },
  {
   "cell_type": "code",
   "execution_count": 19,
   "metadata": {},
   "outputs": [],
   "source": [
    "# get data again untransformed\n",
    "X_train, X_test, y_train, y_test = train_test_split(X, y, test_size = 0.1, random_state = 42)"
   ]
  },
  {
   "cell_type": "code",
   "execution_count": 20,
   "metadata": {},
   "outputs": [
    {
     "name": "stdout",
     "output_type": "stream",
     "text": [
      "Weights to be used: dict_items([(0, 0.8225417688963228), (1, 0.016304385810111538), (2, 0.16115384529356555)])\n"
     ]
    }
   ],
   "source": [
    "EXPONENT = 1.5\n",
    "WEIGHTS = get_weights(classes = y_train, exponent = EXPONENT )"
   ]
  },
  {
   "cell_type": "markdown",
   "metadata": {},
   "source": [
    "## Build model\n"
   ]
  },
  {
   "cell_type": "code",
   "execution_count": 21,
   "metadata": {},
   "outputs": [
    {
     "name": "stdout",
     "output_type": "stream",
     "text": [
      "Deature dimension after dimensionality reduction: (22304, 264)\n"
     ]
    }
   ],
   "source": [
    "select = SelectFromModel(LogisticRegression(class_weight='balanced',penalty=\"l1\",C=0.01, solver ='liblinear', max_iter = 100))\n",
    "X_train = select.fit_transform(X_train,y_train)\n",
    "X_test = select.transform(X_test)\n",
    "print(f'Deature dimension after dimensionality reduction: {X_train.shape}')"
   ]
  },
  {
   "cell_type": "code",
   "execution_count": 22,
   "metadata": {},
   "outputs": [],
   "source": [
    "model = LogisticRegression(class_weight=WEIGHTS,penalty='l2',C=0.01, solver = 'liblinear').fit(X_train,y_train)\n",
    "y_preds = model.predict(X_test)"
   ]
  },
  {
   "cell_type": "markdown",
   "metadata": {},
   "source": [
    "## Evaluating the results"
   ]
  },
  {
   "cell_type": "code",
   "execution_count": 23,
   "metadata": {},
   "outputs": [],
   "source": [
    "report = classification_report( y_test, y_preds , output_dict=True)\n",
    "report_df = pd.DataFrame(report).transpose()\n",
    "report_df.to_csv(f'{PREFIX}_Expo{EXPONENT}_report.csv')"
   ]
  },
  {
   "cell_type": "code",
   "execution_count": 24,
   "metadata": {},
   "outputs": [
    {
     "data": {
      "text/html": [
       "<div>\n",
       "<style scoped>\n",
       "    .dataframe tbody tr th:only-of-type {\n",
       "        vertical-align: middle;\n",
       "    }\n",
       "\n",
       "    .dataframe tbody tr th {\n",
       "        vertical-align: top;\n",
       "    }\n",
       "\n",
       "    .dataframe thead th {\n",
       "        text-align: right;\n",
       "    }\n",
       "</style>\n",
       "<table border=\"1\" class=\"dataframe\">\n",
       "  <thead>\n",
       "    <tr style=\"text-align: right;\">\n",
       "      <th></th>\n",
       "      <th>precision</th>\n",
       "      <th>recall</th>\n",
       "      <th>f1-score</th>\n",
       "      <th>support</th>\n",
       "    </tr>\n",
       "  </thead>\n",
       "  <tbody>\n",
       "    <tr>\n",
       "      <th>0</th>\n",
       "      <td>0.380435</td>\n",
       "      <td>0.640244</td>\n",
       "      <td>0.477273</td>\n",
       "      <td>164.000000</td>\n",
       "    </tr>\n",
       "    <tr>\n",
       "      <th>1</th>\n",
       "      <td>0.962331</td>\n",
       "      <td>0.858268</td>\n",
       "      <td>0.907325</td>\n",
       "      <td>1905.000000</td>\n",
       "    </tr>\n",
       "    <tr>\n",
       "      <th>2</th>\n",
       "      <td>0.748016</td>\n",
       "      <td>0.919512</td>\n",
       "      <td>0.824945</td>\n",
       "      <td>410.000000</td>\n",
       "    </tr>\n",
       "    <tr>\n",
       "      <th>accuracy</th>\n",
       "      <td>0.853973</td>\n",
       "      <td>0.853973</td>\n",
       "      <td>0.853973</td>\n",
       "      <td>0.853973</td>\n",
       "    </tr>\n",
       "    <tr>\n",
       "      <th>macro avg</th>\n",
       "      <td>0.696927</td>\n",
       "      <td>0.806008</td>\n",
       "      <td>0.736514</td>\n",
       "      <td>2479.000000</td>\n",
       "    </tr>\n",
       "    <tr>\n",
       "      <th>weighted avg</th>\n",
       "      <td>0.888390</td>\n",
       "      <td>0.853973</td>\n",
       "      <td>0.865250</td>\n",
       "      <td>2479.000000</td>\n",
       "    </tr>\n",
       "  </tbody>\n",
       "</table>\n",
       "</div>"
      ],
      "text/plain": [
       "              precision    recall  f1-score      support\n",
       "0              0.380435  0.640244  0.477273   164.000000\n",
       "1              0.962331  0.858268  0.907325  1905.000000\n",
       "2              0.748016  0.919512  0.824945   410.000000\n",
       "accuracy       0.853973  0.853973  0.853973     0.853973\n",
       "macro avg      0.696927  0.806008  0.736514  2479.000000\n",
       "weighted avg   0.888390  0.853973  0.865250  2479.000000"
      ]
     },
     "execution_count": 24,
     "metadata": {},
     "output_type": "execute_result"
    }
   ],
   "source": [
    "report_df"
   ]
  },
  {
   "cell_type": "code",
   "execution_count": 25,
   "metadata": {},
   "outputs": [
    {
     "name": "stdout",
     "output_type": "stream",
     "text": [
      "Confusionmatrix was saved to data/AggresiveWeighting/_Expo1.5_confusion.png\n"
     ]
    },
    {
     "data": {
      "image/png": "[encoded data removed]",
      "text/plain": [
       "<Figure size 360x360 with 1 Axes>"
      ]
     },
     "metadata": {
      "needs_background": "light"
     },
     "output_type": "display_data"
    }
   ],
   "source": [
    "print_cm(y_test,y_preds, save_cm = True, save_path = (f'{PREFIX}_Expo{EXPONENT}_confusion.png'))"
   ]
  }
 ],
 "metadata": {
  "kernelspec": {
   "display_name": "Python 3",
   "language": "python",
   "name": "python3"
  },
  "language_info": {
   "codemirror_mode": {
    "name": "ipython",
    "version": 3
   },
   "file_extension": ".py",
   "mimetype": "text/x-python",
   "name": "python",
   "nbconvert_exporter": "python",
   "pygments_lexer": "ipython3",
   "version": "3.7.5"
  },
  "toc": {
   "base_numbering": 1,
   "nav_menu": {},
   "number_sections": true,
   "sideBar": true,
   "skip_h1_title": false,
   "title_cell": "Table of Contents",
   "title_sidebar": "Contents",
   "toc_cell": false,
   "toc_position": {},
   "toc_section_display": true,
   "toc_window_display": false
  }
 },
 "nbformat": 4,
 "nbformat_minor": 2
}
