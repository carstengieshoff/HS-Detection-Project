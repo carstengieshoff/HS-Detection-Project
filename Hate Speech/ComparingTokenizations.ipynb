{
 "cells": [
  {
   "cell_type": "markdown",
   "metadata": {},
   "source": [
    "# Load Libraries"
   ]
  },
  {
   "cell_type": "code",
   "execution_count": 1,
   "metadata": {},
   "outputs": [],
   "source": [
    "import pandas as pd\n",
    "import numpy as np\n",
    "import pickle\n",
    "import sys\n",
    "from sklearn.feature_extraction.text import TfidfVectorizer\n",
    "import nltk\n",
    "from nltk.stem.porter import *\n",
    "import string\n",
    "import re\n",
    "from vaderSentiment.vaderSentiment import SentimentIntensityAnalyzer as VS\n",
    "from textstat.textstat import *\n",
    "from sklearn.linear_model import LogisticRegression\n",
    "from sklearn.feature_selection import SelectFromModel\n",
    "from sklearn.metrics import classification_report\n",
    "from sklearn.svm import LinearSVC\n",
    "import matplotlib.pyplot as plt\n",
    "import seaborn\n",
    "\n",
    "#new \n",
    "from nltk.tokenize.casual import casual_tokenize #casual_tokenize(text, preserve_case=True, reduce_len=False, strip_handles=False)\n",
    "from nltk.tokenize import TreebankWordTokenizer\n",
    "\n",
    "# Own functions\n",
    "from FeatureFunctions import *\n",
    "\n",
    "%matplotlib inline"
   ]
  },
  {
   "cell_type": "markdown",
   "metadata": {},
   "source": [
    "# Notebook Setup\n",
    "\n",
    "This notebook is used to analyse the influence different tokeization techniques have on the L2-regularized Logistic Regression that was used in the underlying paper. To that end the whole feature generation task and some auxillariy fucntions weresummarized in FeatureFunctions.py.\n",
    " \n",
    "The POS-tagger is using the same tokenization as the general tokenization.\n",
    "The choices in generating a TweetsDataset are:\n",
    "    - the data: a path to a csv\n",
    "    - tokenizer_name : 'orig' uses the same as before, 'words' does work tokenization, 'casual_std' is the tweet tokenizer from nltk, 'casual_reduce' is the tweet tokenizer from nltk with some additional simplifications (see https://www.nltk.org/_modules/nltk/tokenize/casual.html)\n",
    "    - use_stopwords: True or False\n",
    "    - min_df, max_df, max_ngram: govern the vocab size (see https://scikit-learn.org/stable/modules/generated/sklearn.feature_extraction.text.TfidfVectorizer.html)\n",
    "    \n",
    "Now, the data can be genrated as in the underlying paper, only changing tokenization technnique. The same snippets of code wil be run with different tokenization techniques. Other changebale parameters are kept the same throughout to ensure comparability."
   ]
  },
  {
   "cell_type": "code",
   "execution_count": 2,
   "metadata": {},
   "outputs": [],
   "source": [
    "#Save data to folder\n",
    "PREFIX = 'data/compareTokenization/'\n",
    "MIN_DF = 5\n",
    "MAX_DF = 0.75\n",
    "MAX_NGRAM = 3\n",
    "USE_STOPWORDS = True\n",
    "USE_PREPROCESS = False"
   ]
  },
  {
   "cell_type": "markdown",
   "metadata": {},
   "source": [
    "# Char-tokenization\n"
   ]
  },
  {
   "cell_type": "markdown",
   "metadata": {},
   "source": [
    "## Get Features"
   ]
  },
  {
   "cell_type": "code",
   "execution_count": 3,
   "metadata": {},
   "outputs": [
    {
     "name": "stdout",
     "output_type": "stream",
     "text": [
      "A vocab was created. It consists of 9795 entries\n",
      "\n",
      " Data has been processed and is now available. Feature dim: (24783, 10369)\n"
     ]
    }
   ],
   "source": [
    "TOKENIZER = 'orig'\n",
    "data = TweetsDataset(csv_path =  \"../data/labeled_data.csv\", tokenizer_name = TOKENIZER, use_stopwords = USE_STOPWORDS, use_preprocessor= USE_PREPROCESS, min_df = MIN_DF, max_df = MAX_DF, max_ngram = MAX_NGRAM)\n",
    "X = data.features\n",
    "y = data.labels"
   ]
  },
  {
   "cell_type": "markdown",
   "metadata": {},
   "source": [
    "## Build model\n"
   ]
  },
  {
   "cell_type": "code",
   "execution_count": 4,
   "metadata": {},
   "outputs": [],
   "source": [
    "from sklearn.model_selection import train_test_split\n",
    "X_train, X_test, y_train, y_test = train_test_split(X, y, test_size = 0.1, random_state = 42)"
   ]
  },
  {
   "cell_type": "code",
   "execution_count": 5,
   "metadata": {},
   "outputs": [
    {
     "name": "stdout",
     "output_type": "stream",
     "text": [
      "Deature dimension after dimensionality reduction: (22304, 647)\n"
     ]
    }
   ],
   "source": [
    "select = SelectFromModel(LogisticRegression(class_weight='balanced',penalty=\"l1\",C=0.01, solver ='liblinear', max_iter = 100))\n",
    "X_train = select.fit_transform(X_train,y_train)\n",
    "X_test = select.transform(X_test)\n",
    "print(f'Deature dimension after dimensionality reduction: {X_train.shape}')"
   ]
  },
  {
   "cell_type": "code",
   "execution_count": 6,
   "metadata": {},
   "outputs": [],
   "source": [
    "model = LogisticRegression(class_weight='balanced',penalty='l2',C=0.01, solver = 'liblinear').fit(X_train,y_train)\n",
    "y_preds = model.predict(X_test)"
   ]
  },
  {
   "cell_type": "markdown",
   "metadata": {},
   "source": [
    "## Evaluating the results"
   ]
  },
  {
   "cell_type": "code",
   "execution_count": 7,
   "metadata": {},
   "outputs": [],
   "source": [
    "report = classification_report( y_test, y_preds , output_dict=True)\n",
    "report_df = pd.DataFrame(report).transpose()\n",
    "report_df.to_csv(f'{PREFIX}{TOKENIZER}_report.csv')"
   ]
  },
  {
   "cell_type": "code",
   "execution_count": 8,
   "metadata": {},
   "outputs": [
    {
     "data": {
      "text/html": [
       "<div>\n",
       "<style scoped>\n",
       "    .dataframe tbody tr th:only-of-type {\n",
       "        vertical-align: middle;\n",
       "    }\n",
       "\n",
       "    .dataframe tbody tr th {\n",
       "        vertical-align: top;\n",
       "    }\n",
       "\n",
       "    .dataframe thead th {\n",
       "        text-align: right;\n",
       "    }\n",
       "</style>\n",
       "<table border=\"1\" class=\"dataframe\">\n",
       "  <thead>\n",
       "    <tr style=\"text-align: right;\">\n",
       "      <th></th>\n",
       "      <th>precision</th>\n",
       "      <th>recall</th>\n",
       "      <th>f1-score</th>\n",
       "      <th>support</th>\n",
       "    </tr>\n",
       "  </thead>\n",
       "  <tbody>\n",
       "    <tr>\n",
       "      <th>0</th>\n",
       "      <td>0.386598</td>\n",
       "      <td>0.457317</td>\n",
       "      <td>0.418994</td>\n",
       "      <td>164.000000</td>\n",
       "    </tr>\n",
       "    <tr>\n",
       "      <th>1</th>\n",
       "      <td>0.950055</td>\n",
       "      <td>0.898688</td>\n",
       "      <td>0.923658</td>\n",
       "      <td>1905.000000</td>\n",
       "    </tr>\n",
       "    <tr>\n",
       "      <th>2</th>\n",
       "      <td>0.776398</td>\n",
       "      <td>0.914634</td>\n",
       "      <td>0.839866</td>\n",
       "      <td>410.000000</td>\n",
       "    </tr>\n",
       "    <tr>\n",
       "      <th>accuracy</th>\n",
       "      <td>0.872126</td>\n",
       "      <td>0.872126</td>\n",
       "      <td>0.872126</td>\n",
       "      <td>0.872126</td>\n",
       "    </tr>\n",
       "    <tr>\n",
       "      <th>macro avg</th>\n",
       "      <td>0.704350</td>\n",
       "      <td>0.756880</td>\n",
       "      <td>0.727506</td>\n",
       "      <td>2479.000000</td>\n",
       "    </tr>\n",
       "    <tr>\n",
       "      <th>weighted avg</th>\n",
       "      <td>0.884058</td>\n",
       "      <td>0.872126</td>\n",
       "      <td>0.876413</td>\n",
       "      <td>2479.000000</td>\n",
       "    </tr>\n",
       "  </tbody>\n",
       "</table>\n",
       "</div>"
      ],
      "text/plain": [
       "              precision    recall  f1-score      support\n",
       "0              0.386598  0.457317  0.418994   164.000000\n",
       "1              0.950055  0.898688  0.923658  1905.000000\n",
       "2              0.776398  0.914634  0.839866   410.000000\n",
       "accuracy       0.872126  0.872126  0.872126     0.872126\n",
       "macro avg      0.704350  0.756880  0.727506  2479.000000\n",
       "weighted avg   0.884058  0.872126  0.876413  2479.000000"
      ]
     },
     "execution_count": 8,
     "metadata": {},
     "output_type": "execute_result"
    }
   ],
   "source": [
    "report_df"
   ]
  },
  {
   "cell_type": "code",
   "execution_count": 9,
   "metadata": {},
   "outputs": [
    {
     "name": "stdout",
     "output_type": "stream",
     "text": [
      "Confusionmatrix was saved to data/compareTokenization/orig_confusion.png\n"
     ]
    },
    {
     "data": {
      "image/png": "[encoded data removed]",
      "text/plain": [
       "<Figure size 360x360 with 1 Axes>"
      ]
     },
     "metadata": {
      "needs_background": "light"
     },
     "output_type": "display_data"
    }
   ],
   "source": [
    "print_cm(y_test,y_preds, save_cm = True, save_path = (f'{PREFIX}{TOKENIZER}_confusion.png'))"
   ]
  },
  {
   "cell_type": "markdown",
   "metadata": {},
   "source": [
    "# Word-tokenization\n"
   ]
  },
  {
   "cell_type": "markdown",
   "metadata": {},
   "source": [
    "## Get Features"
   ]
  },
  {
   "cell_type": "code",
   "execution_count": 10,
   "metadata": {},
   "outputs": [
    {
     "name": "stdout",
     "output_type": "stream",
     "text": [
      "A vocab was created. It consists of 10000 entries\n",
      "\n",
      " Data has been processed and is now available. Feature dim: (24783, 13760)\n"
     ]
    }
   ],
   "source": [
    "TOKENIZER = 'words'\n",
    "data = TweetsDataset(csv_path =  \"../data/labeled_data.csv\", tokenizer_name = TOKENIZER, use_stopwords = USE_STOPWORDS, use_preprocessor= USE_PREPROCESS, min_df = MIN_DF, max_df = MAX_DF, max_ngram = MAX_NGRAM)\n",
    "X = data.features\n",
    "y = data.labels"
   ]
  },
  {
   "cell_type": "markdown",
   "metadata": {},
   "source": [
    "## Build model\n"
   ]
  },
  {
   "cell_type": "code",
   "execution_count": 11,
   "metadata": {},
   "outputs": [],
   "source": [
    "from sklearn.model_selection import train_test_split\n",
    "X_train, X_test, y_train, y_test = train_test_split(X, y, test_size = 0.1, random_state = 42)"
   ]
  },
  {
   "cell_type": "code",
   "execution_count": 12,
   "metadata": {},
   "outputs": [
    {
     "name": "stdout",
     "output_type": "stream",
     "text": [
      "Deature dimension after dimensionality reduction: (22304, 248)\n"
     ]
    }
   ],
   "source": [
    "select = SelectFromModel(LogisticRegression(class_weight='balanced',penalty=\"l1\",C=0.01, solver ='liblinear', max_iter = 100))\n",
    "X_train = select.fit_transform(X_train,y_train)\n",
    "X_test = select.transform(X_test)\n",
    "print(f'Deature dimension after dimensionality reduction: {X_train.shape}')"
   ]
  },
  {
   "cell_type": "code",
   "execution_count": 13,
   "metadata": {},
   "outputs": [],
   "source": [
    "model = LogisticRegression(class_weight='balanced',penalty='l2',C=0.01, solver = 'liblinear').fit(X_train,y_train)\n",
    "y_preds = model.predict(X_test)"
   ]
  },
  {
   "cell_type": "markdown",
   "metadata": {},
   "source": [
    "## Evaluating the results"
   ]
  },
  {
   "cell_type": "code",
   "execution_count": 14,
   "metadata": {},
   "outputs": [],
   "source": [
    "report = classification_report( y_test, y_preds , output_dict=True)\n",
    "report_df = pd.DataFrame(report).transpose()\n",
    "report_df.to_csv(f'{PREFIX}{TOKENIZER}_report.csv')"
   ]
  },
  {
   "cell_type": "code",
   "execution_count": 15,
   "metadata": {},
   "outputs": [
    {
     "data": {
      "text/html": [
       "<div>\n",
       "<style scoped>\n",
       "    .dataframe tbody tr th:only-of-type {\n",
       "        vertical-align: middle;\n",
       "    }\n",
       "\n",
       "    .dataframe tbody tr th {\n",
       "        vertical-align: top;\n",
       "    }\n",
       "\n",
       "    .dataframe thead th {\n",
       "        text-align: right;\n",
       "    }\n",
       "</style>\n",
       "<table border=\"1\" class=\"dataframe\">\n",
       "  <thead>\n",
       "    <tr style=\"text-align: right;\">\n",
       "      <th></th>\n",
       "      <th>precision</th>\n",
       "      <th>recall</th>\n",
       "      <th>f1-score</th>\n",
       "      <th>support</th>\n",
       "    </tr>\n",
       "  </thead>\n",
       "  <tbody>\n",
       "    <tr>\n",
       "      <th>0</th>\n",
       "      <td>0.459184</td>\n",
       "      <td>0.548780</td>\n",
       "      <td>0.500000</td>\n",
       "      <td>164.000000</td>\n",
       "    </tr>\n",
       "    <tr>\n",
       "      <th>1</th>\n",
       "      <td>0.957889</td>\n",
       "      <td>0.895538</td>\n",
       "      <td>0.925665</td>\n",
       "      <td>1905.000000</td>\n",
       "    </tr>\n",
       "    <tr>\n",
       "      <th>2</th>\n",
       "      <td>0.758964</td>\n",
       "      <td>0.929268</td>\n",
       "      <td>0.835526</td>\n",
       "      <td>410.000000</td>\n",
       "    </tr>\n",
       "    <tr>\n",
       "      <th>accuracy</th>\n",
       "      <td>0.878177</td>\n",
       "      <td>0.878177</td>\n",
       "      <td>0.878177</td>\n",
       "      <td>0.878177</td>\n",
       "    </tr>\n",
       "    <tr>\n",
       "      <th>macro avg</th>\n",
       "      <td>0.725346</td>\n",
       "      <td>0.791196</td>\n",
       "      <td>0.753730</td>\n",
       "      <td>2479.000000</td>\n",
       "    </tr>\n",
       "    <tr>\n",
       "      <th>weighted avg</th>\n",
       "      <td>0.891997</td>\n",
       "      <td>0.878177</td>\n",
       "      <td>0.882597</td>\n",
       "      <td>2479.000000</td>\n",
       "    </tr>\n",
       "  </tbody>\n",
       "</table>\n",
       "</div>"
      ],
      "text/plain": [
       "              precision    recall  f1-score      support\n",
       "0              0.459184  0.548780  0.500000   164.000000\n",
       "1              0.957889  0.895538  0.925665  1905.000000\n",
       "2              0.758964  0.929268  0.835526   410.000000\n",
       "accuracy       0.878177  0.878177  0.878177     0.878177\n",
       "macro avg      0.725346  0.791196  0.753730  2479.000000\n",
       "weighted avg   0.891997  0.878177  0.882597  2479.000000"
      ]
     },
     "execution_count": 15,
     "metadata": {},
     "output_type": "execute_result"
    }
   ],
   "source": [
    "report_df"
   ]
  },
  {
   "cell_type": "code",
   "execution_count": 16,
   "metadata": {},
   "outputs": [
    {
     "name": "stdout",
     "output_type": "stream",
     "text": [
      "Confusionmatrix was saved to data/compareTokenization/words_confusion.png\n"
     ]
    },
    {
     "data": {
      "image/png": "[encoded data removed]",
      "text/plain": [
       "<Figure size 360x360 with 1 Axes>"
      ]
     },
     "metadata": {
      "needs_background": "light"
     },
     "output_type": "display_data"
    }
   ],
   "source": [
    "print_cm(y_test,y_preds, save_cm = True, save_path = (f'{PREFIX}{TOKENIZER}_confusion.png'))"
   ]
  },
  {
   "cell_type": "markdown",
   "metadata": {},
   "source": [
    "# Casual-tokenization\n",
    "- (Casual Standard)"
   ]
  },
  {
   "cell_type": "markdown",
   "metadata": {},
   "source": [
    "## Get Features"
   ]
  },
  {
   "cell_type": "code",
   "execution_count": 17,
   "metadata": {},
   "outputs": [
    {
     "name": "stdout",
     "output_type": "stream",
     "text": [
      "A vocab was created. It consists of 10000 entries\n",
      "\n",
      " Data has been processed and is now available. Feature dim: (24783, 15017)\n"
     ]
    }
   ],
   "source": [
    "TOKENIZER = 'casual_std'\n",
    "data = TweetsDataset(csv_path =  \"../data/labeled_data.csv\", tokenizer_name = TOKENIZER, use_stopwords = USE_STOPWORDS, use_preprocessor= USE_PREPROCESS, min_df = MIN_DF, max_df = MAX_DF, max_ngram = MAX_NGRAM)\n",
    "X = data.features\n",
    "y = data.labels"
   ]
  },
  {
   "cell_type": "markdown",
   "metadata": {},
   "source": [
    "## Build model\n"
   ]
  },
  {
   "cell_type": "code",
   "execution_count": 18,
   "metadata": {},
   "outputs": [],
   "source": [
    "from sklearn.model_selection import train_test_split\n",
    "X_train, X_test, y_train, y_test = train_test_split(X, y, test_size = 0.1, random_state = 42)"
   ]
  },
  {
   "cell_type": "code",
   "execution_count": 19,
   "metadata": {},
   "outputs": [
    {
     "name": "stdout",
     "output_type": "stream",
     "text": [
      "Deature dimension after dimensionality reduction: (22304, 264)\n"
     ]
    }
   ],
   "source": [
    "select = SelectFromModel(LogisticRegression(class_weight='balanced',penalty=\"l1\",C=0.01, solver ='liblinear', max_iter = 100))\n",
    "X_train = select.fit_transform(X_train,y_train)\n",
    "X_test = select.transform(X_test)\n",
    "print(f'Deature dimension after dimensionality reduction: {X_train.shape}')"
   ]
  },
  {
   "cell_type": "code",
   "execution_count": 20,
   "metadata": {},
   "outputs": [],
   "source": [
    "model = LogisticRegression(class_weight='balanced',penalty='l2',C=0.01, solver = 'liblinear').fit(X_train,y_train)\n",
    "y_preds = model.predict(X_test)"
   ]
  },
  {
   "cell_type": "markdown",
   "metadata": {},
   "source": [
    "## Evaluating the results"
   ]
  },
  {
   "cell_type": "code",
   "execution_count": 21,
   "metadata": {},
   "outputs": [],
   "source": [
    "report = classification_report( y_test, y_preds , output_dict=True)\n",
    "report_df = pd.DataFrame(report).transpose()\n",
    "report_df.to_csv(f'{PREFIX}{TOKENIZER}_report.csv')"
   ]
  },
  {
   "cell_type": "code",
   "execution_count": 22,
   "metadata": {},
   "outputs": [
    {
     "data": {
      "text/html": [
       "<div>\n",
       "<style scoped>\n",
       "    .dataframe tbody tr th:only-of-type {\n",
       "        vertical-align: middle;\n",
       "    }\n",
       "\n",
       "    .dataframe tbody tr th {\n",
       "        vertical-align: top;\n",
       "    }\n",
       "\n",
       "    .dataframe thead th {\n",
       "        text-align: right;\n",
       "    }\n",
       "</style>\n",
       "<table border=\"1\" class=\"dataframe\">\n",
       "  <thead>\n",
       "    <tr style=\"text-align: right;\">\n",
       "      <th></th>\n",
       "      <th>precision</th>\n",
       "      <th>recall</th>\n",
       "      <th>f1-score</th>\n",
       "      <th>support</th>\n",
       "    </tr>\n",
       "  </thead>\n",
       "  <tbody>\n",
       "    <tr>\n",
       "      <th>0</th>\n",
       "      <td>0.443925</td>\n",
       "      <td>0.579268</td>\n",
       "      <td>0.502646</td>\n",
       "      <td>164.000000</td>\n",
       "    </tr>\n",
       "    <tr>\n",
       "      <th>1</th>\n",
       "      <td>0.959819</td>\n",
       "      <td>0.890289</td>\n",
       "      <td>0.923747</td>\n",
       "      <td>1905.000000</td>\n",
       "    </tr>\n",
       "    <tr>\n",
       "      <th>2</th>\n",
       "      <td>0.773092</td>\n",
       "      <td>0.939024</td>\n",
       "      <td>0.848018</td>\n",
       "      <td>410.000000</td>\n",
       "    </tr>\n",
       "    <tr>\n",
       "      <th>accuracy</th>\n",
       "      <td>0.877773</td>\n",
       "      <td>0.877773</td>\n",
       "      <td>0.877773</td>\n",
       "      <td>0.877773</td>\n",
       "    </tr>\n",
       "    <tr>\n",
       "      <th>macro avg</th>\n",
       "      <td>0.725612</td>\n",
       "      <td>0.802860</td>\n",
       "      <td>0.758137</td>\n",
       "      <td>2479.000000</td>\n",
       "    </tr>\n",
       "    <tr>\n",
       "      <th>weighted avg</th>\n",
       "      <td>0.894807</td>\n",
       "      <td>0.877773</td>\n",
       "      <td>0.883364</td>\n",
       "      <td>2479.000000</td>\n",
       "    </tr>\n",
       "  </tbody>\n",
       "</table>\n",
       "</div>"
      ],
      "text/plain": [
       "              precision    recall  f1-score      support\n",
       "0              0.443925  0.579268  0.502646   164.000000\n",
       "1              0.959819  0.890289  0.923747  1905.000000\n",
       "2              0.773092  0.939024  0.848018   410.000000\n",
       "accuracy       0.877773  0.877773  0.877773     0.877773\n",
       "macro avg      0.725612  0.802860  0.758137  2479.000000\n",
       "weighted avg   0.894807  0.877773  0.883364  2479.000000"
      ]
     },
     "execution_count": 22,
     "metadata": {},
     "output_type": "execute_result"
    }
   ],
   "source": [
    "report_df"
   ]
  },
  {
   "cell_type": "code",
   "execution_count": 23,
   "metadata": {},
   "outputs": [
    {
     "name": "stdout",
     "output_type": "stream",
     "text": [
      "Confusionmatrix was saved to data/compareTokenization/casual_std_confusion.png\n"
     ]
    },
    {
     "data": {
      "image/png": "[encoded data removed]",
      "text/plain": [
       "<Figure size 360x360 with 1 Axes>"
      ]
     },
     "metadata": {
      "needs_background": "light"
     },
     "output_type": "display_data"
    }
   ],
   "source": [
    "print_cm(y_test,y_preds, save_cm = True, save_path = (f'{PREFIX}{TOKENIZER}_confusion.png'))"
   ]
  },
  {
   "cell_type": "markdown",
   "metadata": {},
   "source": [
    "# Casual-tokenization\n",
    "- (Casual reduce)\n"
   ]
  },
  {
   "cell_type": "markdown",
   "metadata": {},
   "source": [
    "## Get Features"
   ]
  },
  {
   "cell_type": "code",
   "execution_count": 24,
   "metadata": {},
   "outputs": [
    {
     "name": "stdout",
     "output_type": "stream",
     "text": [
      "A vocab was created. It consists of 10000 entries\n",
      "\n",
      " Data has been processed and is now available. Feature dim: (24783, 14737)\n"
     ]
    }
   ],
   "source": [
    "TOKENIZER = 'casual_reduce'\n",
    "data = TweetsDataset(csv_path =  \"../data/labeled_data.csv\", tokenizer_name = TOKENIZER, use_stopwords = USE_STOPWORDS, use_preprocessor= USE_PREPROCESS, min_df = MIN_DF, max_df = MAX_DF, max_ngram = MAX_NGRAM)\n",
    "X = data.features\n",
    "y = data.labels"
   ]
  },
  {
   "cell_type": "markdown",
   "metadata": {},
   "source": [
    "## Build model\n"
   ]
  },
  {
   "cell_type": "code",
   "execution_count": 25,
   "metadata": {},
   "outputs": [],
   "source": [
    "from sklearn.model_selection import train_test_split\n",
    "X_train, X_test, y_train, y_test = train_test_split(X, y, test_size = 0.1, random_state = 42)"
   ]
  },
  {
   "cell_type": "code",
   "execution_count": 26,
   "metadata": {},
   "outputs": [
    {
     "name": "stdout",
     "output_type": "stream",
     "text": [
      "Deature dimension after dimensionality reduction: (22304, 269)\n"
     ]
    }
   ],
   "source": [
    "select = SelectFromModel(LogisticRegression(class_weight='balanced',penalty=\"l1\",C=0.01, solver ='liblinear', max_iter = 100))\n",
    "X_train = select.fit_transform(X_train,y_train)\n",
    "X_test = select.transform(X_test)\n",
    "print(f'Deature dimension after dimensionality reduction: {X_train.shape}')"
   ]
  },
  {
   "cell_type": "code",
   "execution_count": 27,
   "metadata": {},
   "outputs": [],
   "source": [
    "model = LogisticRegression(class_weight='balanced',penalty='l2',C=0.01, solver = 'liblinear').fit(X_train,y_train)\n",
    "y_preds = model.predict(X_test)"
   ]
  },
  {
   "cell_type": "markdown",
   "metadata": {},
   "source": [
    "## Evaluating the results"
   ]
  },
  {
   "cell_type": "code",
   "execution_count": 28,
   "metadata": {},
   "outputs": [],
   "source": [
    "report = classification_report( y_test, y_preds , output_dict=True)\n",
    "report_df = pd.DataFrame(report).transpose()\n",
    "report_df.to_csv(f'{PREFIX}{TOKENIZER}_report.csv')"
   ]
  },
  {
   "cell_type": "code",
   "execution_count": 29,
   "metadata": {},
   "outputs": [
    {
     "data": {
      "text/html": [
       "<div>\n",
       "<style scoped>\n",
       "    .dataframe tbody tr th:only-of-type {\n",
       "        vertical-align: middle;\n",
       "    }\n",
       "\n",
       "    .dataframe tbody tr th {\n",
       "        vertical-align: top;\n",
       "    }\n",
       "\n",
       "    .dataframe thead th {\n",
       "        text-align: right;\n",
       "    }\n",
       "</style>\n",
       "<table border=\"1\" class=\"dataframe\">\n",
       "  <thead>\n",
       "    <tr style=\"text-align: right;\">\n",
       "      <th></th>\n",
       "      <th>precision</th>\n",
       "      <th>recall</th>\n",
       "      <th>f1-score</th>\n",
       "      <th>support</th>\n",
       "    </tr>\n",
       "  </thead>\n",
       "  <tbody>\n",
       "    <tr>\n",
       "      <th>0</th>\n",
       "      <td>0.447115</td>\n",
       "      <td>0.567073</td>\n",
       "      <td>0.500000</td>\n",
       "      <td>164.00000</td>\n",
       "    </tr>\n",
       "    <tr>\n",
       "      <th>1</th>\n",
       "      <td>0.958804</td>\n",
       "      <td>0.891864</td>\n",
       "      <td>0.924123</td>\n",
       "      <td>1905.00000</td>\n",
       "    </tr>\n",
       "    <tr>\n",
       "      <th>2</th>\n",
       "      <td>0.773547</td>\n",
       "      <td>0.941463</td>\n",
       "      <td>0.849285</td>\n",
       "      <td>410.00000</td>\n",
       "    </tr>\n",
       "    <tr>\n",
       "      <th>accuracy</th>\n",
       "      <td>0.878580</td>\n",
       "      <td>0.878580</td>\n",
       "      <td>0.878580</td>\n",
       "      <td>0.87858</td>\n",
       "    </tr>\n",
       "    <tr>\n",
       "      <th>macro avg</th>\n",
       "      <td>0.726489</td>\n",
       "      <td>0.800133</td>\n",
       "      <td>0.757803</td>\n",
       "      <td>2479.00000</td>\n",
       "    </tr>\n",
       "    <tr>\n",
       "      <th>weighted avg</th>\n",
       "      <td>0.894313</td>\n",
       "      <td>0.878580</td>\n",
       "      <td>0.883687</td>\n",
       "      <td>2479.00000</td>\n",
       "    </tr>\n",
       "  </tbody>\n",
       "</table>\n",
       "</div>"
      ],
      "text/plain": [
       "              precision    recall  f1-score     support\n",
       "0              0.447115  0.567073  0.500000   164.00000\n",
       "1              0.958804  0.891864  0.924123  1905.00000\n",
       "2              0.773547  0.941463  0.849285   410.00000\n",
       "accuracy       0.878580  0.878580  0.878580     0.87858\n",
       "macro avg      0.726489  0.800133  0.757803  2479.00000\n",
       "weighted avg   0.894313  0.878580  0.883687  2479.00000"
      ]
     },
     "execution_count": 29,
     "metadata": {},
     "output_type": "execute_result"
    }
   ],
   "source": [
    "report_df"
   ]
  },
  {
   "cell_type": "code",
   "execution_count": 30,
   "metadata": {},
   "outputs": [
    {
     "name": "stdout",
     "output_type": "stream",
     "text": [
      "Confusionmatrix was saved to data/compareTokenization/casual_reduce_confusion.png\n"
     ]
    },
    {
     "data": {
      "image/png": "[encoded data removed]",
      "text/plain": [
       "<Figure size 360x360 with 1 Axes>"
      ]
     },
     "metadata": {
      "needs_background": "light"
     },
     "output_type": "display_data"
    }
   ],
   "source": [
    "print_cm(y_test,y_preds, save_cm = True, save_path = (f'{PREFIX}{TOKENIZER}_confusion.png'))"
   ]
  },
  {
   "cell_type": "code",
   "execution_count": null,
   "metadata": {},
   "outputs": [],
   "source": []
  }
 ],
 "metadata": {
  "kernelspec": {
   "display_name": "Python 3",
   "language": "python",
   "name": "python3"
  },
  "language_info": {
   "codemirror_mode": {
    "name": "ipython",
    "version": 3
   },
   "file_extension": ".py",
   "mimetype": "text/x-python",
   "name": "python",
   "nbconvert_exporter": "python",
   "pygments_lexer": "ipython3",
   "version": "3.7.5"
  },
  "toc": {
   "base_numbering": 1,
   "nav_menu": {},
   "number_sections": true,
   "sideBar": true,
   "skip_h1_title": false,
   "title_cell": "Table of Contents",
   "title_sidebar": "Contents",
   "toc_cell": false,
   "toc_position": {},
   "toc_section_display": true,
   "toc_window_display": false
  }
 },
 "nbformat": 4,
 "nbformat_minor": 2
}
