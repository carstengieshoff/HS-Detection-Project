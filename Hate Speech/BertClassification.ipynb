{
  "nbformat": 4,
  "nbformat_minor": 0,
  "metadata": {
    "kernelspec": {
      "display_name": "Python 3",
      "language": "python",
      "name": "python3"
    },
    "language_info": {
      "codemirror_mode": {
        "name": "ipython",
        "version": 3
      },
      "file_extension": ".py",
      "mimetype": "text/x-python",
      "name": "python",
      "nbconvert_exporter": "python",
      "pygments_lexer": "ipython3",
      "version": "3.7.5"
    },
    "toc": {
      "base_numbering": 1,
      "nav_menu": {},
      "number_sections": true,
      "sideBar": true,
      "skip_h1_title": false,
      "title_cell": "Table of Contents",
      "title_sidebar": "Contents",
      "toc_cell": false,
      "toc_position": {},
      "toc_section_display": true,
      "toc_window_display": false
    },
    "colab": {
      "name": "BertClassification.ipynb",
      "provenance": [],
      "collapsed_sections": []
    },
    "accelerator": "GPU",
    "widgets": {
      "application/vnd.jupyter.widget-state+json": {
        "c97fc6f2c2c2473c836009eb6e87fd71": {
          "model_module": "@jupyter-widgets/controls",
          "model_name": "HBoxModel",
          "state": {
            "_view_name": "HBoxView",
            "_dom_classes": [],
            "_model_name": "HBoxModel",
            "_view_module": "@jupyter-widgets/controls",
            "_model_module_version": "1.5.0",
            "_view_count": null,
            "_view_module_version": "1.5.0",
            "box_style": "",
            "layout": "IPY_MODEL_b6e60e45b0bd4f0483038dd4f505dabb",
            "_model_module": "@jupyter-widgets/controls",
            "children": [
              "IPY_MODEL_bdbfa72547934990b093f0c8b7fd91e3",
              "IPY_MODEL_056077251b2542b182f8d3dc551d5e8b"
            ]
          }
        },
        "b6e60e45b0bd4f0483038dd4f505dabb": {
          "model_module": "@jupyter-widgets/base",
          "model_name": "LayoutModel",
          "state": {
            "_view_name": "LayoutView",
            "grid_template_rows": null,
            "right": null,
            "justify_content": null,
            "_view_module": "@jupyter-widgets/base",
            "overflow": null,
            "_model_module_version": "1.2.0",
            "_view_count": null,
            "flex_flow": null,
            "width": null,
            "min_width": null,
            "border": null,
            "align_items": null,
            "bottom": null,
            "_model_module": "@jupyter-widgets/base",
            "top": null,
            "grid_column": null,
            "overflow_y": null,
            "overflow_x": null,
            "grid_auto_flow": null,
            "grid_area": null,
            "grid_template_columns": null,
            "flex": null,
            "_model_name": "LayoutModel",
            "justify_items": null,
            "grid_row": null,
            "max_height": null,
            "align_content": null,
            "visibility": null,
            "align_self": null,
            "height": null,
            "min_height": null,
            "padding": null,
            "grid_auto_rows": null,
            "grid_gap": null,
            "max_width": null,
            "order": null,
            "_view_module_version": "1.2.0",
            "grid_template_areas": null,
            "object_position": null,
            "object_fit": null,
            "grid_auto_columns": null,
            "margin": null,
            "display": null,
            "left": null
          }
        },
        "bdbfa72547934990b093f0c8b7fd91e3": {
          "model_module": "@jupyter-widgets/controls",
          "model_name": "FloatProgressModel",
          "state": {
            "_view_name": "ProgressView",
            "style": "IPY_MODEL_d1530a09e62b4bddae122194ebfd4b01",
            "_dom_classes": [],
            "description": "Downloading: 100%",
            "_model_name": "FloatProgressModel",
            "bar_style": "success",
            "max": 231508,
            "_view_module": "@jupyter-widgets/controls",
            "_model_module_version": "1.5.0",
            "value": 231508,
            "_view_count": null,
            "_view_module_version": "1.5.0",
            "orientation": "horizontal",
            "min": 0,
            "description_tooltip": null,
            "_model_module": "@jupyter-widgets/controls",
            "layout": "IPY_MODEL_d0069ff72cfd4527a29a73813585fa95"
          }
        },
        "056077251b2542b182f8d3dc551d5e8b": {
          "model_module": "@jupyter-widgets/controls",
          "model_name": "HTMLModel",
          "state": {
            "_view_name": "HTMLView",
            "style": "IPY_MODEL_db217fb436624b62a25d328bf560e2ca",
            "_dom_classes": [],
            "description": "",
            "_model_name": "HTMLModel",
            "placeholder": "​",
            "_view_module": "@jupyter-widgets/controls",
            "_model_module_version": "1.5.0",
            "value": " 232k/232k [00:00&lt;00:00, 940kB/s]",
            "_view_count": null,
            "_view_module_version": "1.5.0",
            "description_tooltip": null,
            "_model_module": "@jupyter-widgets/controls",
            "layout": "IPY_MODEL_e9335e67c945453b8468bf3e45775115"
          }
        },
        "d1530a09e62b4bddae122194ebfd4b01": {
          "model_module": "@jupyter-widgets/controls",
          "model_name": "ProgressStyleModel",
          "state": {
            "_view_name": "StyleView",
            "_model_name": "ProgressStyleModel",
            "description_width": "initial",
            "_view_module": "@jupyter-widgets/base",
            "_model_module_version": "1.5.0",
            "_view_count": null,
            "_view_module_version": "1.2.0",
            "bar_color": null,
            "_model_module": "@jupyter-widgets/controls"
          }
        },
        "d0069ff72cfd4527a29a73813585fa95": {
          "model_module": "@jupyter-widgets/base",
          "model_name": "LayoutModel",
          "state": {
            "_view_name": "LayoutView",
            "grid_template_rows": null,
            "right": null,
            "justify_content": null,
            "_view_module": "@jupyter-widgets/base",
            "overflow": null,
            "_model_module_version": "1.2.0",
            "_view_count": null,
            "flex_flow": null,
            "width": null,
            "min_width": null,
            "border": null,
            "align_items": null,
            "bottom": null,
            "_model_module": "@jupyter-widgets/base",
            "top": null,
            "grid_column": null,
            "overflow_y": null,
            "overflow_x": null,
            "grid_auto_flow": null,
            "grid_area": null,
            "grid_template_columns": null,
            "flex": null,
            "_model_name": "LayoutModel",
            "justify_items": null,
            "grid_row": null,
            "max_height": null,
            "align_content": null,
            "visibility": null,
            "align_self": null,
            "height": null,
            "min_height": null,
            "padding": null,
            "grid_auto_rows": null,
            "grid_gap": null,
            "max_width": null,
            "order": null,
            "_view_module_version": "1.2.0",
            "grid_template_areas": null,
            "object_position": null,
            "object_fit": null,
            "grid_auto_columns": null,
            "margin": null,
            "display": null,
            "left": null
          }
        },
        "db217fb436624b62a25d328bf560e2ca": {
          "model_module": "@jupyter-widgets/controls",
          "model_name": "DescriptionStyleModel",
          "state": {
            "_view_name": "StyleView",
            "_model_name": "DescriptionStyleModel",
            "description_width": "",
            "_view_module": "@jupyter-widgets/base",
            "_model_module_version": "1.5.0",
            "_view_count": null,
            "_view_module_version": "1.2.0",
            "_model_module": "@jupyter-widgets/controls"
          }
        },
        "e9335e67c945453b8468bf3e45775115": {
          "model_module": "@jupyter-widgets/base",
          "model_name": "LayoutModel",
          "state": {
            "_view_name": "LayoutView",
            "grid_template_rows": null,
            "right": null,
            "justify_content": null,
            "_view_module": "@jupyter-widgets/base",
            "overflow": null,
            "_model_module_version": "1.2.0",
            "_view_count": null,
            "flex_flow": null,
            "width": null,
            "min_width": null,
            "border": null,
            "align_items": null,
            "bottom": null,
            "_model_module": "@jupyter-widgets/base",
            "top": null,
            "grid_column": null,
            "overflow_y": null,
            "overflow_x": null,
            "grid_auto_flow": null,
            "grid_area": null,
            "grid_template_columns": null,
            "flex": null,
            "_model_name": "LayoutModel",
            "justify_items": null,
            "grid_row": null,
            "max_height": null,
            "align_content": null,
            "visibility": null,
            "align_self": null,
            "height": null,
            "min_height": null,
            "padding": null,
            "grid_auto_rows": null,
            "grid_gap": null,
            "max_width": null,
            "order": null,
            "_view_module_version": "1.2.0",
            "grid_template_areas": null,
            "object_position": null,
            "object_fit": null,
            "grid_auto_columns": null,
            "margin": null,
            "display": null,
            "left": null
          }
        },
        "302b709648774288a65858c3a018030d": {
          "model_module": "@jupyter-widgets/controls",
          "model_name": "HBoxModel",
          "state": {
            "_view_name": "HBoxView",
            "_dom_classes": [],
            "_model_name": "HBoxModel",
            "_view_module": "@jupyter-widgets/controls",
            "_model_module_version": "1.5.0",
            "_view_count": null,
            "_view_module_version": "1.5.0",
            "box_style": "",
            "layout": "IPY_MODEL_a2818c6b3af240caaf255ef74727472d",
            "_model_module": "@jupyter-widgets/controls",
            "children": [
              "IPY_MODEL_506f974faca54d62983f0ae5a7de10e1",
              "IPY_MODEL_5f24175bb9fa4962890a66908efce438"
            ]
          }
        },
        "a2818c6b3af240caaf255ef74727472d": {
          "model_module": "@jupyter-widgets/base",
          "model_name": "LayoutModel",
          "state": {
            "_view_name": "LayoutView",
            "grid_template_rows": null,
            "right": null,
            "justify_content": null,
            "_view_module": "@jupyter-widgets/base",
            "overflow": null,
            "_model_module_version": "1.2.0",
            "_view_count": null,
            "flex_flow": null,
            "width": null,
            "min_width": null,
            "border": null,
            "align_items": null,
            "bottom": null,
            "_model_module": "@jupyter-widgets/base",
            "top": null,
            "grid_column": null,
            "overflow_y": null,
            "overflow_x": null,
            "grid_auto_flow": null,
            "grid_area": null,
            "grid_template_columns": null,
            "flex": null,
            "_model_name": "LayoutModel",
            "justify_items": null,
            "grid_row": null,
            "max_height": null,
            "align_content": null,
            "visibility": null,
            "align_self": null,
            "height": null,
            "min_height": null,
            "padding": null,
            "grid_auto_rows": null,
            "grid_gap": null,
            "max_width": null,
            "order": null,
            "_view_module_version": "1.2.0",
            "grid_template_areas": null,
            "object_position": null,
            "object_fit": null,
            "grid_auto_columns": null,
            "margin": null,
            "display": null,
            "left": null
          }
        },
        "506f974faca54d62983f0ae5a7de10e1": {
          "model_module": "@jupyter-widgets/controls",
          "model_name": "FloatProgressModel",
          "state": {
            "_view_name": "ProgressView",
            "style": "IPY_MODEL_d5aac78974214844801adf4919af77ce",
            "_dom_classes": [],
            "description": "Downloading: 100%",
            "_model_name": "FloatProgressModel",
            "bar_style": "success",
            "max": 433,
            "_view_module": "@jupyter-widgets/controls",
            "_model_module_version": "1.5.0",
            "value": 433,
            "_view_count": null,
            "_view_module_version": "1.5.0",
            "orientation": "horizontal",
            "min": 0,
            "description_tooltip": null,
            "_model_module": "@jupyter-widgets/controls",
            "layout": "IPY_MODEL_7bfb2e0a28c7465cb3198bd23a82898d"
          }
        },
        "5f24175bb9fa4962890a66908efce438": {
          "model_module": "@jupyter-widgets/controls",
          "model_name": "HTMLModel",
          "state": {
            "_view_name": "HTMLView",
            "style": "IPY_MODEL_f404ca1fd422446394d16d2f7a356ef7",
            "_dom_classes": [],
            "description": "",
            "_model_name": "HTMLModel",
            "placeholder": "​",
            "_view_module": "@jupyter-widgets/controls",
            "_model_module_version": "1.5.0",
            "value": " 433/433 [00:00&lt;00:00, 1.59kB/s]",
            "_view_count": null,
            "_view_module_version": "1.5.0",
            "description_tooltip": null,
            "_model_module": "@jupyter-widgets/controls",
            "layout": "IPY_MODEL_bd98938643164b189d28bf4349f0a719"
          }
        },
        "d5aac78974214844801adf4919af77ce": {
          "model_module": "@jupyter-widgets/controls",
          "model_name": "ProgressStyleModel",
          "state": {
            "_view_name": "StyleView",
            "_model_name": "ProgressStyleModel",
            "description_width": "initial",
            "_view_module": "@jupyter-widgets/base",
            "_model_module_version": "1.5.0",
            "_view_count": null,
            "_view_module_version": "1.2.0",
            "bar_color": null,
            "_model_module": "@jupyter-widgets/controls"
          }
        },
        "7bfb2e0a28c7465cb3198bd23a82898d": {
          "model_module": "@jupyter-widgets/base",
          "model_name": "LayoutModel",
          "state": {
            "_view_name": "LayoutView",
            "grid_template_rows": null,
            "right": null,
            "justify_content": null,
            "_view_module": "@jupyter-widgets/base",
            "overflow": null,
            "_model_module_version": "1.2.0",
            "_view_count": null,
            "flex_flow": null,
            "width": null,
            "min_width": null,
            "border": null,
            "align_items": null,
            "bottom": null,
            "_model_module": "@jupyter-widgets/base",
            "top": null,
            "grid_column": null,
            "overflow_y": null,
            "overflow_x": null,
            "grid_auto_flow": null,
            "grid_area": null,
            "grid_template_columns": null,
            "flex": null,
            "_model_name": "LayoutModel",
            "justify_items": null,
            "grid_row": null,
            "max_height": null,
            "align_content": null,
            "visibility": null,
            "align_self": null,
            "height": null,
            "min_height": null,
            "padding": null,
            "grid_auto_rows": null,
            "grid_gap": null,
            "max_width": null,
            "order": null,
            "_view_module_version": "1.2.0",
            "grid_template_areas": null,
            "object_position": null,
            "object_fit": null,
            "grid_auto_columns": null,
            "margin": null,
            "display": null,
            "left": null
          }
        },
        "f404ca1fd422446394d16d2f7a356ef7": {
          "model_module": "@jupyter-widgets/controls",
          "model_name": "DescriptionStyleModel",
          "state": {
            "_view_name": "StyleView",
            "_model_name": "DescriptionStyleModel",
            "description_width": "",
            "_view_module": "@jupyter-widgets/base",
            "_model_module_version": "1.5.0",
            "_view_count": null,
            "_view_module_version": "1.2.0",
            "_model_module": "@jupyter-widgets/controls"
          }
        },
        "bd98938643164b189d28bf4349f0a719": {
          "model_module": "@jupyter-widgets/base",
          "model_name": "LayoutModel",
          "state": {
            "_view_name": "LayoutView",
            "grid_template_rows": null,
            "right": null,
            "justify_content": null,
            "_view_module": "@jupyter-widgets/base",
            "overflow": null,
            "_model_module_version": "1.2.0",
            "_view_count": null,
            "flex_flow": null,
            "width": null,
            "min_width": null,
            "border": null,
            "align_items": null,
            "bottom": null,
            "_model_module": "@jupyter-widgets/base",
            "top": null,
            "grid_column": null,
            "overflow_y": null,
            "overflow_x": null,
            "grid_auto_flow": null,
            "grid_area": null,
            "grid_template_columns": null,
            "flex": null,
            "_model_name": "LayoutModel",
            "justify_items": null,
            "grid_row": null,
            "max_height": null,
            "align_content": null,
            "visibility": null,
            "align_self": null,
            "height": null,
            "min_height": null,
            "padding": null,
            "grid_auto_rows": null,
            "grid_gap": null,
            "max_width": null,
            "order": null,
            "_view_module_version": "1.2.0",
            "grid_template_areas": null,
            "object_position": null,
            "object_fit": null,
            "grid_auto_columns": null,
            "margin": null,
            "display": null,
            "left": null
          }
        },
        "6f05c5a9fd9b4caf89e49e0f7b7cbb87": {
          "model_module": "@jupyter-widgets/controls",
          "model_name": "HBoxModel",
          "state": {
            "_view_name": "HBoxView",
            "_dom_classes": [],
            "_model_name": "HBoxModel",
            "_view_module": "@jupyter-widgets/controls",
            "_model_module_version": "1.5.0",
            "_view_count": null,
            "_view_module_version": "1.5.0",
            "box_style": "",
            "layout": "IPY_MODEL_4b662b8e6eb047cc9c94ae1671466c25",
            "_model_module": "@jupyter-widgets/controls",
            "children": [
              "IPY_MODEL_d9ce669ac11c4bb182e100ba7ce06014",
              "IPY_MODEL_975ad36aaa3a41998094cf786f43df06"
            ]
          }
        },
        "4b662b8e6eb047cc9c94ae1671466c25": {
          "model_module": "@jupyter-widgets/base",
          "model_name": "LayoutModel",
          "state": {
            "_view_name": "LayoutView",
            "grid_template_rows": null,
            "right": null,
            "justify_content": null,
            "_view_module": "@jupyter-widgets/base",
            "overflow": null,
            "_model_module_version": "1.2.0",
            "_view_count": null,
            "flex_flow": null,
            "width": null,
            "min_width": null,
            "border": null,
            "align_items": null,
            "bottom": null,
            "_model_module": "@jupyter-widgets/base",
            "top": null,
            "grid_column": null,
            "overflow_y": null,
            "overflow_x": null,
            "grid_auto_flow": null,
            "grid_area": null,
            "grid_template_columns": null,
            "flex": null,
            "_model_name": "LayoutModel",
            "justify_items": null,
            "grid_row": null,
            "max_height": null,
            "align_content": null,
            "visibility": null,
            "align_self": null,
            "height": null,
            "min_height": null,
            "padding": null,
            "grid_auto_rows": null,
            "grid_gap": null,
            "max_width": null,
            "order": null,
            "_view_module_version": "1.2.0",
            "grid_template_areas": null,
            "object_position": null,
            "object_fit": null,
            "grid_auto_columns": null,
            "margin": null,
            "display": null,
            "left": null
          }
        },
        "d9ce669ac11c4bb182e100ba7ce06014": {
          "model_module": "@jupyter-widgets/controls",
          "model_name": "FloatProgressModel",
          "state": {
            "_view_name": "ProgressView",
            "style": "IPY_MODEL_bb22edb04fe946c6974392c2d09b9898",
            "_dom_classes": [],
            "description": "Downloading: 100%",
            "_model_name": "FloatProgressModel",
            "bar_style": "success",
            "max": 440473133,
            "_view_module": "@jupyter-widgets/controls",
            "_model_module_version": "1.5.0",
            "value": 440473133,
            "_view_count": null,
            "_view_module_version": "1.5.0",
            "orientation": "horizontal",
            "min": 0,
            "description_tooltip": null,
            "_model_module": "@jupyter-widgets/controls",
            "layout": "IPY_MODEL_f1a173f4f53f4448a82b20e80f0f50d2"
          }
        },
        "975ad36aaa3a41998094cf786f43df06": {
          "model_module": "@jupyter-widgets/controls",
          "model_name": "HTMLModel",
          "state": {
            "_view_name": "HTMLView",
            "style": "IPY_MODEL_40a35512de414b22966dbb2a76c7f970",
            "_dom_classes": [],
            "description": "",
            "_model_name": "HTMLModel",
            "placeholder": "​",
            "_view_module": "@jupyter-widgets/controls",
            "_model_module_version": "1.5.0",
            "value": " 440M/440M [00:07&lt;00:00, 57.1MB/s]",
            "_view_count": null,
            "_view_module_version": "1.5.0",
            "description_tooltip": null,
            "_model_module": "@jupyter-widgets/controls",
            "layout": "IPY_MODEL_64b13ee324d74d8e8b3cf16375e515b1"
          }
        },
        "bb22edb04fe946c6974392c2d09b9898": {
          "model_module": "@jupyter-widgets/controls",
          "model_name": "ProgressStyleModel",
          "state": {
            "_view_name": "StyleView",
            "_model_name": "ProgressStyleModel",
            "description_width": "initial",
            "_view_module": "@jupyter-widgets/base",
            "_model_module_version": "1.5.0",
            "_view_count": null,
            "_view_module_version": "1.2.0",
            "bar_color": null,
            "_model_module": "@jupyter-widgets/controls"
          }
        },
        "f1a173f4f53f4448a82b20e80f0f50d2": {
          "model_module": "@jupyter-widgets/base",
          "model_name": "LayoutModel",
          "state": {
            "_view_name": "LayoutView",
            "grid_template_rows": null,
            "right": null,
            "justify_content": null,
            "_view_module": "@jupyter-widgets/base",
            "overflow": null,
            "_model_module_version": "1.2.0",
            "_view_count": null,
            "flex_flow": null,
            "width": null,
            "min_width": null,
            "border": null,
            "align_items": null,
            "bottom": null,
            "_model_module": "@jupyter-widgets/base",
            "top": null,
            "grid_column": null,
            "overflow_y": null,
            "overflow_x": null,
            "grid_auto_flow": null,
            "grid_area": null,
            "grid_template_columns": null,
            "flex": null,
            "_model_name": "LayoutModel",
            "justify_items": null,
            "grid_row": null,
            "max_height": null,
            "align_content": null,
            "visibility": null,
            "align_self": null,
            "height": null,
            "min_height": null,
            "padding": null,
            "grid_auto_rows": null,
            "grid_gap": null,
            "max_width": null,
            "order": null,
            "_view_module_version": "1.2.0",
            "grid_template_areas": null,
            "object_position": null,
            "object_fit": null,
            "grid_auto_columns": null,
            "margin": null,
            "display": null,
            "left": null
          }
        },
        "40a35512de414b22966dbb2a76c7f970": {
          "model_module": "@jupyter-widgets/controls",
          "model_name": "DescriptionStyleModel",
          "state": {
            "_view_name": "StyleView",
            "_model_name": "DescriptionStyleModel",
            "description_width": "",
            "_view_module": "@jupyter-widgets/base",
            "_model_module_version": "1.5.0",
            "_view_count": null,
            "_view_module_version": "1.2.0",
            "_model_module": "@jupyter-widgets/controls"
          }
        },
        "64b13ee324d74d8e8b3cf16375e515b1": {
          "model_module": "@jupyter-widgets/base",
          "model_name": "LayoutModel",
          "state": {
            "_view_name": "LayoutView",
            "grid_template_rows": null,
            "right": null,
            "justify_content": null,
            "_view_module": "@jupyter-widgets/base",
            "overflow": null,
            "_model_module_version": "1.2.0",
            "_view_count": null,
            "flex_flow": null,
            "width": null,
            "min_width": null,
            "border": null,
            "align_items": null,
            "bottom": null,
            "_model_module": "@jupyter-widgets/base",
            "top": null,
            "grid_column": null,
            "overflow_y": null,
            "overflow_x": null,
            "grid_auto_flow": null,
            "grid_area": null,
            "grid_template_columns": null,
            "flex": null,
            "_model_name": "LayoutModel",
            "justify_items": null,
            "grid_row": null,
            "max_height": null,
            "align_content": null,
            "visibility": null,
            "align_self": null,
            "height": null,
            "min_height": null,
            "padding": null,
            "grid_auto_rows": null,
            "grid_gap": null,
            "max_width": null,
            "order": null,
            "_view_module_version": "1.2.0",
            "grid_template_areas": null,
            "object_position": null,
            "object_fit": null,
            "grid_auto_columns": null,
            "margin": null,
            "display": null,
            "left": null
          }
        }
      }
    }
  },
  "cells": [
    {
      "cell_type": "markdown",
      "metadata": {
        "id": "vtqo-KADGG67"
      },
      "source": [
        "# Building a Bert-Classifier for Hatespeech Classification\n",
        "\n",
        "In this notebook we build a hate speech classifier based on the data presented in 'Automated Hate Speech Detection and the Problem of Offensive Language\u0003' by Davison et al. in 2ß18. The classifier consists of a fully connected layer ont top of a BERT model.\n",
        "\n",
        "The implemenation is based on:\n",
        "- https://curiousily.com/posts/sentiment-analysis-with-bert-and-hugging-face-using-pytorch-and-python/\n",
        "- https://xiangyutang2.github.io/tweet-classification/\n",
        "- https://github.com/t-davidson/hate-speech-and-offensive-language"
      ]
    },
    {
      "cell_type": "markdown",
      "metadata": {
        "id": "kuoFPdzvGG7C"
      },
      "source": [
        "## Loading all needed Libraries"
      ]
    },
    {
      "cell_type": "code",
      "metadata": {
        "colab": {
          "base_uri": "https://localhost:8080/"
        },
        "id": "dmNuCOFOGh1w",
        "outputId": "5e28adfb-7c02-4ec3-a3f9-76524dbe61c4"
      },
      "source": [
        "! pip install transformers==3\n",
        "! pip install tokenizers==0.7.0"
      ],
      "execution_count": null,
      "outputs": [
        {
          "output_type": "stream",
          "text": [
            "Collecting transformers==3\n",
            "\u001b[?25l  Downloading https://files.pythonhosted.org/packages/9c/35/1c3f6e62d81f5f0daff1384e6d5e6c5758682a8357ebc765ece2b9def62b/transformers-3.0.0-py3-none-any.whl (754kB)\n",
            "\r\u001b[K     |▍                               | 10kB 25.5MB/s eta 0:00:01\r\u001b[K     |▉                               | 20kB 17.6MB/s eta 0:00:01\r\u001b[K     |█▎                              | 30kB 15.0MB/s eta 0:00:01\r\u001b[K     |█▊                              | 40kB 13.4MB/s eta 0:00:01\r\u001b[K     |██▏                             | 51kB 9.0MB/s eta 0:00:01\r\u001b[K     |██▋                             | 61kB 8.4MB/s eta 0:00:01\r\u001b[K     |███                             | 71kB 9.5MB/s eta 0:00:01\r\u001b[K     |███▌                            | 81kB 10.4MB/s eta 0:00:01\r\u001b[K     |████                            | 92kB 9.6MB/s eta 0:00:01\r\u001b[K     |████▍                           | 102kB 8.7MB/s eta 0:00:01\r\u001b[K     |████▊                           | 112kB 8.7MB/s eta 0:00:01\r\u001b[K     |█████▏                          | 122kB 8.7MB/s eta 0:00:01\r\u001b[K     |█████▋                          | 133kB 8.7MB/s eta 0:00:01\r\u001b[K     |██████                          | 143kB 8.7MB/s eta 0:00:01\r\u001b[K     |██████▌                         | 153kB 8.7MB/s eta 0:00:01\r\u001b[K     |███████                         | 163kB 8.7MB/s eta 0:00:01\r\u001b[K     |███████▍                        | 174kB 8.7MB/s eta 0:00:01\r\u001b[K     |███████▉                        | 184kB 8.7MB/s eta 0:00:01\r\u001b[K     |████████▎                       | 194kB 8.7MB/s eta 0:00:01\r\u001b[K     |████████▊                       | 204kB 8.7MB/s eta 0:00:01\r\u001b[K     |█████████▏                      | 215kB 8.7MB/s eta 0:00:01\r\u001b[K     |█████████▌                      | 225kB 8.7MB/s eta 0:00:01\r\u001b[K     |██████████                      | 235kB 8.7MB/s eta 0:00:01\r\u001b[K     |██████████▍                     | 245kB 8.7MB/s eta 0:00:01\r\u001b[K     |██████████▉                     | 256kB 8.7MB/s eta 0:00:01\r\u001b[K     |███████████▎                    | 266kB 8.7MB/s eta 0:00:01\r\u001b[K     |███████████▊                    | 276kB 8.7MB/s eta 0:00:01\r\u001b[K     |████████████▏                   | 286kB 8.7MB/s eta 0:00:01\r\u001b[K     |████████████▋                   | 296kB 8.7MB/s eta 0:00:01\r\u001b[K     |█████████████                   | 307kB 8.7MB/s eta 0:00:01\r\u001b[K     |█████████████▌                  | 317kB 8.7MB/s eta 0:00:01\r\u001b[K     |██████████████                  | 327kB 8.7MB/s eta 0:00:01\r\u001b[K     |██████████████▎                 | 337kB 8.7MB/s eta 0:00:01\r\u001b[K     |██████████████▊                 | 348kB 8.7MB/s eta 0:00:01\r\u001b[K     |███████████████▏                | 358kB 8.7MB/s eta 0:00:01\r\u001b[K     |███████████████▋                | 368kB 8.7MB/s eta 0:00:01\r\u001b[K     |████████████████                | 378kB 8.7MB/s eta 0:00:01\r\u001b[K     |████████████████▌               | 389kB 8.7MB/s eta 0:00:01\r\u001b[K     |█████████████████               | 399kB 8.7MB/s eta 0:00:01\r\u001b[K     |█████████████████▍              | 409kB 8.7MB/s eta 0:00:01\r\u001b[K     |█████████████████▉              | 419kB 8.7MB/s eta 0:00:01\r\u001b[K     |██████████████████▎             | 430kB 8.7MB/s eta 0:00:01\r\u001b[K     |██████████████████▊             | 440kB 8.7MB/s eta 0:00:01\r\u001b[K     |███████████████████             | 450kB 8.7MB/s eta 0:00:01\r\u001b[K     |███████████████████▌            | 460kB 8.7MB/s eta 0:00:01\r\u001b[K     |████████████████████            | 471kB 8.7MB/s eta 0:00:01\r\u001b[K     |████████████████████▍           | 481kB 8.7MB/s eta 0:00:01\r\u001b[K     |████████████████████▉           | 491kB 8.7MB/s eta 0:00:01\r\u001b[K     |█████████████████████▎          | 501kB 8.7MB/s eta 0:00:01\r\u001b[K     |█████████████████████▊          | 512kB 8.7MB/s eta 0:00:01\r\u001b[K     |██████████████████████▏         | 522kB 8.7MB/s eta 0:00:01\r\u001b[K     |██████████████████████▋         | 532kB 8.7MB/s eta 0:00:01\r\u001b[K     |███████████████████████         | 542kB 8.7MB/s eta 0:00:01\r\u001b[K     |███████████████████████▌        | 552kB 8.7MB/s eta 0:00:01\r\u001b[K     |███████████████████████▉        | 563kB 8.7MB/s eta 0:00:01\r\u001b[K     |████████████████████████▎       | 573kB 8.7MB/s eta 0:00:01\r\u001b[K     |████████████████████████▊       | 583kB 8.7MB/s eta 0:00:01\r\u001b[K     |█████████████████████████▏      | 593kB 8.7MB/s eta 0:00:01\r\u001b[K     |█████████████████████████▋      | 604kB 8.7MB/s eta 0:00:01\r\u001b[K     |██████████████████████████      | 614kB 8.7MB/s eta 0:00:01\r\u001b[K     |██████████████████████████▌     | 624kB 8.7MB/s eta 0:00:01\r\u001b[K     |███████████████████████████     | 634kB 8.7MB/s eta 0:00:01\r\u001b[K     |███████████████████████████▍    | 645kB 8.7MB/s eta 0:00:01\r\u001b[K     |███████████████████████████▉    | 655kB 8.7MB/s eta 0:00:01\r\u001b[K     |████████████████████████████▎   | 665kB 8.7MB/s eta 0:00:01\r\u001b[K     |████████████████████████████▋   | 675kB 8.7MB/s eta 0:00:01\r\u001b[K     |█████████████████████████████   | 686kB 8.7MB/s eta 0:00:01\r\u001b[K     |█████████████████████████████▌  | 696kB 8.7MB/s eta 0:00:01\r\u001b[K     |██████████████████████████████  | 706kB 8.7MB/s eta 0:00:01\r\u001b[K     |██████████████████████████████▍ | 716kB 8.7MB/s eta 0:00:01\r\u001b[K     |██████████████████████████████▉ | 727kB 8.7MB/s eta 0:00:01\r\u001b[K     |███████████████████████████████▎| 737kB 8.7MB/s eta 0:00:01\r\u001b[K     |███████████████████████████████▊| 747kB 8.7MB/s eta 0:00:01\r\u001b[K     |████████████████████████████████| 757kB 8.7MB/s \n",
            "\u001b[?25hRequirement already satisfied: requests in /usr/local/lib/python3.7/dist-packages (from transformers==3) (2.23.0)\n",
            "Requirement already satisfied: regex!=2019.12.17 in /usr/local/lib/python3.7/dist-packages (from transformers==3) (2019.12.20)\n",
            "Collecting tokenizers==0.8.0-rc4\n",
            "\u001b[?25l  Downloading https://files.pythonhosted.org/packages/f7/82/0e82a95bd9db2b32569500cc1bb47aa7c4e0f57aa5e35cceba414096917b/tokenizers-0.8.0rc4-cp37-cp37m-manylinux1_x86_64.whl (3.0MB)\n",
            "\u001b[K     |████████████████████████████████| 3.0MB 18.2MB/s \n",
            "\u001b[?25hRequirement already satisfied: packaging in /usr/local/lib/python3.7/dist-packages (from transformers==3) (20.9)\n",
            "Requirement already satisfied: filelock in /usr/local/lib/python3.7/dist-packages (from transformers==3) (3.0.12)\n",
            "Requirement already satisfied: numpy in /usr/local/lib/python3.7/dist-packages (from transformers==3) (1.19.5)\n",
            "Requirement already satisfied: tqdm>=4.27 in /usr/local/lib/python3.7/dist-packages (from transformers==3) (4.41.1)\n",
            "Collecting sacremoses\n",
            "\u001b[?25l  Downloading https://files.pythonhosted.org/packages/7d/34/09d19aff26edcc8eb2a01bed8e98f13a1537005d31e95233fd48216eed10/sacremoses-0.0.43.tar.gz (883kB)\n",
            "\u001b[K     |████████████████████████████████| 890kB 47.7MB/s \n",
            "\u001b[?25hCollecting sentencepiece\n",
            "\u001b[?25l  Downloading https://files.pythonhosted.org/packages/f5/99/e0808cb947ba10f575839c43e8fafc9cc44e4a7a2c8f79c60db48220a577/sentencepiece-0.1.95-cp37-cp37m-manylinux2014_x86_64.whl (1.2MB)\n",
            "\u001b[K     |████████████████████████████████| 1.2MB 57.8MB/s \n",
            "\u001b[?25hRequirement already satisfied: certifi>=2017.4.17 in /usr/local/lib/python3.7/dist-packages (from requests->transformers==3) (2020.12.5)\n",
            "Requirement already satisfied: urllib3!=1.25.0,!=1.25.1,<1.26,>=1.21.1 in /usr/local/lib/python3.7/dist-packages (from requests->transformers==3) (1.24.3)\n",
            "Requirement already satisfied: idna<3,>=2.5 in /usr/local/lib/python3.7/dist-packages (from requests->transformers==3) (2.10)\n",
            "Requirement already satisfied: chardet<4,>=3.0.2 in /usr/local/lib/python3.7/dist-packages (from requests->transformers==3) (3.0.4)\n",
            "Requirement already satisfied: pyparsing>=2.0.2 in /usr/local/lib/python3.7/dist-packages (from packaging->transformers==3) (2.4.7)\n",
            "Requirement already satisfied: six in /usr/local/lib/python3.7/dist-packages (from sacremoses->transformers==3) (1.15.0)\n",
            "Requirement already satisfied: click in /usr/local/lib/python3.7/dist-packages (from sacremoses->transformers==3) (7.1.2)\n",
            "Requirement already satisfied: joblib in /usr/local/lib/python3.7/dist-packages (from sacremoses->transformers==3) (1.0.1)\n",
            "Building wheels for collected packages: sacremoses\n",
            "  Building wheel for sacremoses (setup.py) ... \u001b[?25l\u001b[?25hdone\n",
            "  Created wheel for sacremoses: filename=sacremoses-0.0.43-cp37-none-any.whl size=893262 sha256=1f42029f2eb655b45d1870267c2ae16594bddcc70d63537bb90fd0b5f9a76b0f\n",
            "  Stored in directory: /root/.cache/pip/wheels/29/3c/fd/7ce5c3f0666dab31a50123635e6fb5e19ceb42ce38d4e58f45\n",
            "Successfully built sacremoses\n",
            "Installing collected packages: tokenizers, sacremoses, sentencepiece, transformers\n",
            "Successfully installed sacremoses-0.0.43 sentencepiece-0.1.95 tokenizers-0.8.0rc4 transformers-3.0.0\n",
            "Collecting tokenizers==0.7.0\n",
            "\u001b[?25l  Downloading https://files.pythonhosted.org/packages/ea/59/bb06dd5ca53547d523422d32735585493e0103c992a52a97ba3aa3be33bf/tokenizers-0.7.0-cp37-cp37m-manylinux1_x86_64.whl (5.6MB)\n",
            "\u001b[K     |████████████████████████████████| 5.6MB 8.2MB/s \n",
            "\u001b[31mERROR: transformers 3.0.0 has requirement tokenizers==0.8.0-rc4, but you'll have tokenizers 0.7.0 which is incompatible.\u001b[0m\n",
            "\u001b[?25hInstalling collected packages: tokenizers\n",
            "  Found existing installation: tokenizers 0.8.0rc4\n",
            "    Uninstalling tokenizers-0.8.0rc4:\n",
            "      Successfully uninstalled tokenizers-0.8.0rc4\n",
            "Successfully installed tokenizers-0.7.0\n"
          ],
          "name": "stdout"
        }
      ]
    },
    {
      "cell_type": "code",
      "metadata": {
        "id": "CEqGmlAVGG7C"
      },
      "source": [
        "import transformers\n",
        "from transformers import BertModel, BertTokenizer, AdamW, get_linear_schedule_with_warmup\n",
        "import torch\n",
        "import numpy as np\n",
        "import pandas as pd\n",
        "import seaborn as sns\n",
        "from pylab import rcParams\n",
        "import matplotlib.pyplot as plt\n",
        "from matplotlib import rc\n",
        "from sklearn.model_selection import train_test_split\n",
        "from sklearn.metrics import confusion_matrix, classification_report\n",
        "from collections import defaultdict\n",
        "from textwrap import wrap\n",
        "from torch import nn, optim\n",
        "import torch.nn.functional as F\n",
        "from torch.utils.data import Dataset, DataLoader\n",
        "import re\n",
        "from sklearn.utils import resample\n",
        "from sklearn.metrics import confusion_matrix\n",
        "from google.colab import drive\n",
        "drive.mount('/content/gdrive')"
      ],
      "execution_count": null,
      "outputs": []
    },
    {
      "cell_type": "markdown",
      "metadata": {
        "id": "SgxcMFe9glxh"
      },
      "source": [
        "- Get GPU"
      ]
    },
    {
      "cell_type": "code",
      "metadata": {
        "colab": {
          "base_uri": "https://localhost:8080/"
        },
        "id": "5FipvThvGG7F",
        "outputId": "75d1508c-b8ea-4c2f-b0ea-61894ab0b09e"
      },
      "source": [
        "# Get Device \n",
        "device = torch.device(\"cuda:0\" if torch.cuda.is_available() else \"cpu\")\n",
        "print(f'Used device is {device}')"
      ],
      "execution_count": null,
      "outputs": [
        {
          "output_type": "stream",
          "text": [
            "Used device is cuda:0\n"
          ],
          "name": "stdout"
        }
      ]
    },
    {
      "cell_type": "markdown",
      "metadata": {
        "id": "CGRFu1l7gcFg"
      },
      "source": [
        "- Next we create two folders to save models and data in \n"
      ]
    },
    {
      "cell_type": "code",
      "metadata": {
        "id": "8FPxnuxwf5Ru"
      },
      "source": [
        "# Setting up folder to save data and models\n",
        "! mkdir data\n",
        "! mkdir models"
      ],
      "execution_count": null,
      "outputs": []
    },
    {
      "cell_type": "markdown",
      "metadata": {
        "id": "PGJfiP3vGG7F"
      },
      "source": [
        "## Data Exploration and Preprocessing"
      ]
    },
    {
      "cell_type": "markdown",
      "metadata": {
        "id": "dmHj0IvGfr31"
      },
      "source": [
        "- Upload data in csv format"
      ]
    },
    {
      "cell_type": "code",
      "metadata": {
        "colab": {
          "base_uri": "https://localhost:8080/"
        },
        "id": "HxPNuFZaGG7G",
        "outputId": "eae5dfbd-684b-4dce-fe82-9d669140d31d"
      },
      "source": [
        "# Loading Data \n",
        "df = pd.read_csv(\"labeled_data.csv\")\n",
        "df.head()"
      ],
      "execution_count": null,
      "outputs": [
        {
          "output_type": "execute_result",
          "data": {
            "text/html": [
              "<div>\n",
              "<style scoped>\n",
              "    .dataframe tbody tr th:only-of-type {\n",
              "        vertical-align: middle;\n",
              "    }\n",
              "\n",
              "    .dataframe tbody tr th {\n",
              "        vertical-align: top;\n",
              "    }\n",
              "\n",
              "    .dataframe thead th {\n",
              "        text-align: right;\n",
              "    }\n",
              "</style>\n",
              "<table border=\"1\" class=\"dataframe\">\n",
              "  <thead>\n",
              "    <tr style=\"text-align: right;\">\n",
              "      <th></th>\n",
              "      <th>Unnamed: 0</th>\n",
              "      <th>count</th>\n",
              "      <th>hate_speech</th>\n",
              "      <th>offensive_language</th>\n",
              "      <th>neither</th>\n",
              "      <th>class</th>\n",
              "      <th>tweet</th>\n",
              "    </tr>\n",
              "  </thead>\n",
              "  <tbody>\n",
              "    <tr>\n",
              "      <th>0</th>\n",
              "      <td>0</td>\n",
              "      <td>3</td>\n",
              "      <td>0</td>\n",
              "      <td>0</td>\n",
              "      <td>3</td>\n",
              "      <td>2</td>\n",
              "      <td>!!! RT @mayasolovely: As a woman you shouldn't...</td>\n",
              "    </tr>\n",
              "    <tr>\n",
              "      <th>1</th>\n",
              "      <td>1</td>\n",
              "      <td>3</td>\n",
              "      <td>0</td>\n",
              "      <td>3</td>\n",
              "      <td>0</td>\n",
              "      <td>1</td>\n",
              "      <td>!!!!! RT @mleew17: boy dats cold...tyga dwn ba...</td>\n",
              "    </tr>\n",
              "    <tr>\n",
              "      <th>2</th>\n",
              "      <td>2</td>\n",
              "      <td>3</td>\n",
              "      <td>0</td>\n",
              "      <td>3</td>\n",
              "      <td>0</td>\n",
              "      <td>1</td>\n",
              "      <td>!!!!!!! RT @UrKindOfBrand Dawg!!!! RT @80sbaby...</td>\n",
              "    </tr>\n",
              "    <tr>\n",
              "      <th>3</th>\n",
              "      <td>3</td>\n",
              "      <td>3</td>\n",
              "      <td>0</td>\n",
              "      <td>2</td>\n",
              "      <td>1</td>\n",
              "      <td>1</td>\n",
              "      <td>!!!!!!!!! RT @C_G_Anderson: @viva_based she lo...</td>\n",
              "    </tr>\n",
              "    <tr>\n",
              "      <th>4</th>\n",
              "      <td>4</td>\n",
              "      <td>6</td>\n",
              "      <td>0</td>\n",
              "      <td>6</td>\n",
              "      <td>0</td>\n",
              "      <td>1</td>\n",
              "      <td>!!!!!!!!!!!!! RT @ShenikaRoberts: The shit you...</td>\n",
              "    </tr>\n",
              "  </tbody>\n",
              "</table>\n",
              "</div>"
            ],
            "text/plain": [
              "   Unnamed: 0  count  ...  class                                              tweet\n",
              "0           0      3  ...      2  !!! RT @mayasolovely: As a woman you shouldn't...\n",
              "1           1      3  ...      1  !!!!! RT @mleew17: boy dats cold...tyga dwn ba...\n",
              "2           2      3  ...      1  !!!!!!! RT @UrKindOfBrand Dawg!!!! RT @80sbaby...\n",
              "3           3      3  ...      1  !!!!!!!!! RT @C_G_Anderson: @viva_based she lo...\n",
              "4           4      6  ...      1  !!!!!!!!!!!!! RT @ShenikaRoberts: The shit you...\n",
              "\n",
              "[5 rows x 7 columns]"
            ]
          },
          "metadata": {
            "tags": []
          },
          "execution_count": 5
        }
      ]
    },
    {
      "cell_type": "code",
      "metadata": {
        "id": "89RBk3a6GG7I",
        "colab": {
          "base_uri": "https://localhost:8080/"
        },
        "outputId": "80ca90ea-0d42-41f1-c814-fc9fa6607e2e"
      },
      "source": [
        "# Data class distributions\n",
        "df['class'].hist()"
      ],
      "execution_count": null,
      "outputs": [
        {
          "output_type": "execute_result",
          "data": {
            "text/plain": [
              "<matplotlib.axes._subplots.AxesSubplot at 0x7fa0c9682850>"
            ]
          },
          "metadata": {
            "tags": []
          },
          "execution_count": 6
        },
        {
          "output_type": "display_data",
          "data": {
            "image/png": "[encoded data removed]",
            "text/plain": [
              "<Figure size 432x288 with 1 Axes>"
            ]
          },
          "metadata": {
            "tags": [],
            "needs_background": "light"
          }
        }
      ]
    },
    {
      "cell_type": "markdown",
      "metadata": {
        "id": "seFV5ouZgsW8"
      },
      "source": [
        " - We slightly alter prerpocess fucntion from origianl code. Using casual tokenizer from nltk does eitehr keep or remove handles/URLs completely\n",
        " We aim to have mentions and links as information for the model. However, as no metadata about users is used, it does not matter who is addressed.\n",
        " Thus, replacing all handles and URLs by respective representations will help the model understand better if someone was addressed or not. "
      ]
    },
    {
      "cell_type": "code",
      "metadata": {
        "id": "iz6UHl4vGszd"
      },
      "source": [
        "def anonymize_users_and_links(text_string):\n",
        "    \"\"\"\n",
        "    Accepts a text string and replaces:\n",
        "    1) urls with URLHERE\n",
        "    2) lots of whitespace with one instance\n",
        "    3) mentions with MENTIONHERE\n",
        "\n",
        "    This allows us to get standardized counts of urls and mentions\n",
        "    Without caring about specific people mentioned\n",
        "    \"\"\"\n",
        "    space_pattern = '\\s+'\n",
        "    giant_url_regex = ('http[s]?://(?:[a-zA-Z]|[0-9]|[$-_@.&+]|'\n",
        "        '[!*\\(\\),]|(?:%[0-9a-fA-F][0-9a-fA-F]))+')\n",
        "    mention_regex = '@[\\w\\-]+'\n",
        "    parsed_text = re.sub(space_pattern, ' ', text_string)\n",
        "    parsed_text = re.sub(giant_url_regex, 'URL', parsed_text)\n",
        "    parsed_text = re.sub(mention_regex, 'USER', parsed_text)\n",
        "    parsed_text = re.sub('RT', '', parsed_text)\n",
        "    #parsed_text = parsed_text.code(\"utf-8\", errors='ignore')\n",
        "    return parsed_text"
      ],
      "execution_count": null,
      "outputs": []
    },
    {
      "cell_type": "code",
      "metadata": {
        "id": "miF7X00jGG7J",
        "colab": {
          "base_uri": "https://localhost:8080/"
        },
        "outputId": "0b7198c1-2c98-4288-be1c-f092a1133097"
      },
      "source": [
        "# Processing Tweets\n",
        "df['tweet'] = [anonymize_users_and_links(tweet) for tweet in df['tweet']]\n",
        "df.head()"
      ],
      "execution_count": null,
      "outputs": [
        {
          "output_type": "execute_result",
          "data": {
            "text/html": [
              "<div>\n",
              "<style scoped>\n",
              "    .dataframe tbody tr th:only-of-type {\n",
              "        vertical-align: middle;\n",
              "    }\n",
              "\n",
              "    .dataframe tbody tr th {\n",
              "        vertical-align: top;\n",
              "    }\n",
              "\n",
              "    .dataframe thead th {\n",
              "        text-align: right;\n",
              "    }\n",
              "</style>\n",
              "<table border=\"1\" class=\"dataframe\">\n",
              "  <thead>\n",
              "    <tr style=\"text-align: right;\">\n",
              "      <th></th>\n",
              "      <th>Unnamed: 0</th>\n",
              "      <th>count</th>\n",
              "      <th>hate_speech</th>\n",
              "      <th>offensive_language</th>\n",
              "      <th>neither</th>\n",
              "      <th>class</th>\n",
              "      <th>tweet</th>\n",
              "    </tr>\n",
              "  </thead>\n",
              "  <tbody>\n",
              "    <tr>\n",
              "      <th>0</th>\n",
              "      <td>0</td>\n",
              "      <td>3</td>\n",
              "      <td>0</td>\n",
              "      <td>0</td>\n",
              "      <td>3</td>\n",
              "      <td>2</td>\n",
              "      <td>!!!  USER: As a woman you shouldn't complain a...</td>\n",
              "    </tr>\n",
              "    <tr>\n",
              "      <th>1</th>\n",
              "      <td>1</td>\n",
              "      <td>3</td>\n",
              "      <td>0</td>\n",
              "      <td>3</td>\n",
              "      <td>0</td>\n",
              "      <td>1</td>\n",
              "      <td>!!!!!  USER: boy dats cold...tyga dwn bad for ...</td>\n",
              "    </tr>\n",
              "    <tr>\n",
              "      <th>2</th>\n",
              "      <td>2</td>\n",
              "      <td>3</td>\n",
              "      <td>0</td>\n",
              "      <td>3</td>\n",
              "      <td>0</td>\n",
              "      <td>1</td>\n",
              "      <td>!!!!!!!  USER Dawg!!!!  USER: You ever fuck a ...</td>\n",
              "    </tr>\n",
              "    <tr>\n",
              "      <th>3</th>\n",
              "      <td>3</td>\n",
              "      <td>3</td>\n",
              "      <td>0</td>\n",
              "      <td>2</td>\n",
              "      <td>1</td>\n",
              "      <td>1</td>\n",
              "      <td>!!!!!!!!!  USER: USER she look like a tranny</td>\n",
              "    </tr>\n",
              "    <tr>\n",
              "      <th>4</th>\n",
              "      <td>4</td>\n",
              "      <td>6</td>\n",
              "      <td>0</td>\n",
              "      <td>6</td>\n",
              "      <td>0</td>\n",
              "      <td>1</td>\n",
              "      <td>!!!!!!!!!!!!!  USER: The shit you hear about m...</td>\n",
              "    </tr>\n",
              "  </tbody>\n",
              "</table>\n",
              "</div>"
            ],
            "text/plain": [
              "   Unnamed: 0  count  ...  class                                              tweet\n",
              "0           0      3  ...      2  !!!  USER: As a woman you shouldn't complain a...\n",
              "1           1      3  ...      1  !!!!!  USER: boy dats cold...tyga dwn bad for ...\n",
              "2           2      3  ...      1  !!!!!!!  USER Dawg!!!!  USER: You ever fuck a ...\n",
              "3           3      3  ...      1       !!!!!!!!!  USER: USER she look like a tranny\n",
              "4           4      6  ...      1  !!!!!!!!!!!!!  USER: The shit you hear about m...\n",
              "\n",
              "[5 rows x 7 columns]"
            ]
          },
          "metadata": {
            "tags": []
          },
          "execution_count": 8
        }
      ]
    },
    {
      "cell_type": "markdown",
      "metadata": {
        "id": "Xu02Y_WfGG7K"
      },
      "source": [
        "## Building Bert Classifier Model"
      ]
    },
    {
      "cell_type": "markdown",
      "metadata": {
        "id": "y1fiKVdnGG7L"
      },
      "source": [
        "### Bert specific processing"
      ]
    },
    {
      "cell_type": "code",
      "metadata": {
        "id": "5qfK5p4QGG7L",
        "colab": {
          "base_uri": "https://localhost:8080/",
          "referenced_widgets": [
            "c97fc6f2c2c2473c836009eb6e87fd71",
            "b6e60e45b0bd4f0483038dd4f505dabb",
            "bdbfa72547934990b093f0c8b7fd91e3",
            "056077251b2542b182f8d3dc551d5e8b",
            "d1530a09e62b4bddae122194ebfd4b01",
            "d0069ff72cfd4527a29a73813585fa95",
            "db217fb436624b62a25d328bf560e2ca",
            "e9335e67c945453b8468bf3e45775115"
          ]
        },
        "outputId": "5528004a-11a2-41c5-9d66-663e49f00fa2"
      },
      "source": [
        "# Special BERT mdoe to be used: While slight information might be lost; capitalization in tweets is a neglectable characteristic\n",
        "PRE_TRAINED_MODEL_NAME = 'bert-base-uncased'\n",
        "tokenizer = BertTokenizer.from_pretrained(PRE_TRAINED_MODEL_NAME)"
      ],
      "execution_count": null,
      "outputs": [
        {
          "output_type": "display_data",
          "data": {
            "application/vnd.jupyter.widget-view+json": {
              "model_id": "c97fc6f2c2c2473c836009eb6e87fd71",
              "version_minor": 0,
              "version_major": 2
            },
            "text/plain": [
              "HBox(children=(FloatProgress(value=0.0, description='Downloading', max=231508.0, style=ProgressStyle(descripti…"
            ]
          },
          "metadata": {
            "tags": []
          }
        },
        {
          "output_type": "stream",
          "text": [
            "\n"
          ],
          "name": "stdout"
        }
      ]
    },
    {
      "cell_type": "markdown",
      "metadata": {
        "id": "rrbiImoZj4C1"
      },
      "source": [
        "- Get understanding of the distribution of token sizes for maximal lanrgth used in BERT"
      ]
    },
    {
      "cell_type": "code",
      "metadata": {
        "id": "2jFQ-dakGQy2",
        "colab": {
          "base_uri": "https://localhost:8080/"
        },
        "outputId": "7d5d4a01-1fe7-4128-b3ec-5ef60ae42410"
      },
      "source": [
        "df['len'] = [len(tokenizer.tokenize(tweet)) for tweet in df['tweet']]\n",
        "df['len'].hist() "
      ],
      "execution_count": null,
      "outputs": [
        {
          "output_type": "execute_result",
          "data": {
            "text/plain": [
              "<matplotlib.axes._subplots.AxesSubplot at 0x7fa0c8efab10>"
            ]
          },
          "metadata": {
            "tags": []
          },
          "execution_count": 10
        },
        {
          "output_type": "display_data",
          "data": {
            "image/png": "[encoded data removed]",
            "text/plain": [
              "<Figure size 432x288 with 1 Axes>"
            ]
          },
          "metadata": {
            "tags": [],
            "needs_background": "light"
          }
        }
      ]
    },
    {
      "cell_type": "markdown",
      "metadata": {
        "id": "Q1xDxi2TGG7M"
      },
      "source": [
        "### Build PyTorch Dataset and DataLoader"
      ]
    },
    {
      "cell_type": "code",
      "metadata": {
        "id": "r5iRZUrDGG7M"
      },
      "source": [
        "# Data Structure\n",
        "class TweetsDataset(Dataset):\n",
        "    def __init__(self, tweets, labels, tokenizer, max_len):\n",
        "        self.tweets = tweets\n",
        "        self.labels = labels\n",
        "        self.tokenizer = tokenizer\n",
        "        self.max_len = max_len\n",
        "        \n",
        "    def __len__(self):\n",
        "        return len(self.tweets)\n",
        "    \n",
        "    def __getitem__(self, item):\n",
        "        \n",
        "        tweet = str(self.tweets[item])\n",
        "        label = self.labels[item]\n",
        "\n",
        "        encoding = tokenizer(tweet,\n",
        "                             truncation=True,\n",
        "                             add_special_tokens=True, # Add '[CLS]' and '[SEP]'\n",
        "                             return_token_type_ids=False,\n",
        "                             padding = 'max_length',\n",
        "                             max_length=self.max_len,\n",
        "                             return_attention_mask=True,\n",
        "                             return_tensors='pt')\n",
        "      \n",
        "        return { 'tweet': tweet, 'input_ids': encoding['input_ids'].flatten(),\n",
        "          'attention_mask': encoding['attention_mask'].flatten(),\n",
        "          'label': torch.tensor(label, dtype=torch.long)\n",
        "        }\n",
        "# Data Loader\n",
        "def create_data_loader(df, tokenizer, max_len, batch_size):\n",
        "    ds = TweetsDataset(\n",
        "        tweets=df['tweet'].to_numpy(),\n",
        "        labels=df['class'].to_numpy(),\n",
        "        tokenizer=tokenizer,\n",
        "        max_len=max_len\n",
        "    )\n",
        "    return DataLoader(\n",
        "        ds,\n",
        "        batch_size=batch_size,\n",
        "        num_workers=2\n",
        "    )"
      ],
      "execution_count": null,
      "outputs": []
    },
    {
      "cell_type": "markdown",
      "metadata": {
        "id": "4-AWbwUqGG7O"
      },
      "source": [
        "### Actual Model"
      ]
    },
    {
      "cell_type": "code",
      "metadata": {
        "id": "S_DvWra9GG7O"
      },
      "source": [
        "class HSClassifier(nn.Module):\n",
        "    def __init__(self, n_classes):\n",
        "        \n",
        "        super(HSClassifier, self).__init__()\n",
        "        self.bert = BertModel.from_pretrained(PRE_TRAINED_MODEL_NAME)\n",
        "        self.drop = nn.Dropout(p=0.3)\n",
        "        self.out = nn.Linear(self.bert.config.hidden_size, n_classes)\n",
        "        \n",
        "    def forward(self, input_ids, attention_mask):\n",
        "        _, pooled_output = self.bert(input_ids=input_ids, attention_mask=attention_mask)\n",
        "        output = self.drop(pooled_output)\n",
        "        return self.out(output)"
      ],
      "execution_count": null,
      "outputs": []
    },
    {
      "cell_type": "markdown",
      "metadata": {
        "id": "MIyj-PWKGG7P"
      },
      "source": [
        "## Training the model"
      ]
    },
    {
      "cell_type": "markdown",
      "metadata": {
        "id": "WeVa1TidGG7P"
      },
      "source": [
        "### Define Helper functions"
      ]
    },
    {
      "cell_type": "code",
      "metadata": {
        "id": "Frpt7_9lxxiv"
      },
      "source": [
        "# This provides just awuik way to illustrate our confusion matrices in a nice and labeled way\n",
        "def show_confusion_matrix(confusion_matrix):\n",
        "  names=['Hate','Offensive','Neither']\n",
        "  confusion_df = pd.DataFrame(cm, index=names,columns=names)\n",
        "  plt.figure(figsize=(5,5))\n",
        "  sns.heatmap(confusion_df,annot=True,annot_kws={\"size\": 12},cmap='gist_gray_r',cbar=False, square=True,fmt='.2f')\n",
        "  plt.ylabel(r'True categories',fontsize=14)\n",
        "  plt.xlabel(r'Predicted categories',fontsize=14)\n",
        "  plt.tick_params(labelsize=12)\n",
        "  plt.savefig(f'/content/gdrive/My Drive/HS/data/{NAME}_exp{EXPONENT}_epochs{EPOCHS}_Batchsize{BATCH_SIZE}_confusionmatrix.png')\n",
        "  plt.show()"
      ],
      "execution_count": null,
      "outputs": []
    },
    {
      "cell_type": "code",
      "metadata": {
        "id": "wOtgFHQQyLgS"
      },
      "source": [
        "def get_predictions(model, data_loader):\n",
        "  # put to eval mode to disable dropout \n",
        "  model = model.eval()\n",
        "\n",
        "  predictions = []\n",
        "  prediction_probs = []\n",
        "  real_values = []\n",
        "  with torch.no_grad():\n",
        "    for d in data_loader:\n",
        "\n",
        "      input_ids = d[\"input_ids\"].to(device)\n",
        "      attention_mask = d[\"attention_mask\"].to(device)\n",
        "      labels = d[\"label\"].to(device)\n",
        "\n",
        "      outputs = model(input_ids=input_ids, attention_mask=attention_mask) #dim BATCH_SIZE x 3\n",
        "      # torch.max(outputs, dim=1) returns (vals, positions) of maxima -> positions are kept and correspond to class labels\n",
        "      _, preds = torch.max(outputs, dim=1) # dim BATCH_SIZE x 1\n",
        "\n",
        "      predictions.extend(preds)\n",
        "      #prediction_probs.extend(outputs)\n",
        "      real_values.extend(labels)\n",
        "  predictions = torch.stack(predictions).cpu()\n",
        "  #prediction_probs = torch.stack(prediction_probs).cpu()\n",
        "  real_values = torch.stack(real_values).cpu()\n",
        "  return predictions, real_values #prediction_probs"
      ],
      "execution_count": null,
      "outputs": []
    },
    {
      "cell_type": "code",
      "metadata": {
        "id": "mw1k970NGG7P"
      },
      "source": [
        "def train_epoch(model, data_loader, loss_fn, optimizer, device, scheduler, n_examples):\n",
        "    \n",
        "    model = model.train()\n",
        "    losses = []\n",
        "    correct_predictions = 0\n",
        "    \n",
        "    show_every = np.floor(len(data_loader)/5)\n",
        "    \n",
        "    for i,d in enumerate(data_loader):\n",
        "        \n",
        "        input_ids = d[\"input_ids\"].to(device)\n",
        "        attention_mask = d[\"attention_mask\"].to(device)\n",
        "        labels = d[\"label\"].to(device)\n",
        "        \n",
        "        outputs = model(input_ids=input_ids, attention_mask=attention_mask)\n",
        "        # torch.max(outputs, dim=1) returns (vals, positions) of maxima -> positions are kept and correspond to class labels\n",
        "        _, preds = torch.max(outputs, dim=1)\n",
        "        \n",
        "        loss = loss_fn(outputs, labels) # both outputs and labels are in {0,1,2}\n",
        "        correct_predictions += torch.sum(preds == labels)\n",
        "        \n",
        "        losses.append(loss.item())\n",
        "        loss.backward()\n",
        "        nn.utils.clip_grad_norm_(model.parameters(), max_norm=1.0)\n",
        "        optimizer.step()\n",
        "        scheduler.step()\n",
        "        optimizer.zero_grad()\n",
        "        \n",
        "                \n",
        "    return correct_predictions.double() / n_examples, np.mean(losses)"
      ],
      "execution_count": null,
      "outputs": []
    },
    {
      "cell_type": "code",
      "metadata": {
        "id": "tqkdAEHUGG7Q"
      },
      "source": [
        "def eval_model(model, data_loader, loss_fn, device, n_examples):\n",
        "    \n",
        "    model = model.eval()\n",
        "    losses = []\n",
        "    correct_predictions = 0\n",
        "    \n",
        "    with torch.no_grad():\n",
        "        for d in data_loader:\n",
        "            \n",
        "            input_ids = d[\"input_ids\"].to(device)\n",
        "            attention_mask = d[\"attention_mask\"].to(device)\n",
        "            labels = d[\"label\"].to(device)\n",
        "            outputs = model(input_ids=input_ids, attention_mask=attention_mask)\n",
        "            _, preds = torch.max(outputs, dim=1)\n",
        "            loss = loss_fn(outputs, labels)\n",
        "            correct_predictions += torch.sum(preds == labels)\n",
        "            losses.append(loss.item())\n",
        "            \n",
        "    return correct_predictions.double() / n_examples, np.mean(losses)"
      ],
      "execution_count": null,
      "outputs": []
    },
    {
      "cell_type": "code",
      "metadata": {
        "id": "RWO18hpyvXyT"
      },
      "source": [
        "def get_weights(df, exponent = 1):\n",
        "    # original balanced weights\n",
        "    class_weights_balanced = dict(zip([0,1,2],[len(df)/(3*sum(df['class']==i)) for i in range(3)]))\n",
        "\n",
        "    # Expoentially weighted\n",
        "    Z = sum(val**exponent for key,val in class_weights_balanced.items())\n",
        "    class_weights_dict= dict(zip([0,1,2],[(val**exponent)/Z for key,val in class_weights_balanced.items()]))\n",
        "\n",
        "    # To tensor\n",
        "    class_weights = torch.tensor([ value for value in class_weights_dict.values()]) \n",
        "\n",
        "    return class_weights "
      ],
      "execution_count": null,
      "outputs": []
    },
    {
      "cell_type": "markdown",
      "metadata": {
        "id": "EGaZ6wceKQTr"
      },
      "source": [
        "### Parameter choices\n",
        "- Set hyper parameters and run optimization accordingly"
      ]
    },
    {
      "cell_type": "code",
      "metadata": {
        "id": "GGa0sP8RKA9F"
      },
      "source": [
        "MAX_LEN = 100 # chosen acccroding to hist above\n",
        "BATCH_SIZE = 16 # tunable hyper parameter\n",
        "EPOCHS = 6\n",
        "EXPONENT = 1\n",
        "lr = 2e-5\n",
        "NAME ='BERT'"
      ],
      "execution_count": null,
      "outputs": []
    },
    {
      "cell_type": "markdown",
      "metadata": {
        "id": "dACk_YZ3GG7Q"
      },
      "source": [
        "### Optimization\n"
      ]
    },
    {
      "cell_type": "markdown",
      "metadata": {
        "id": "O72MpM9eKDwC"
      },
      "source": [
        "- Prepare data"
      ]
    },
    {
      "cell_type": "code",
      "metadata": {
        "id": "LVZwjxDvGG7N"
      },
      "source": [
        "# Splitting data\n",
        "df_train, df_test = train_test_split(df, test_size=0.2, random_state = 42) \n",
        "df_val, df_test = train_test_split(df_test, test_size=0.5,random_state = 42) \n",
        "\n",
        "# Create DataLoaders\n",
        "train_data_loader = create_data_loader(df_train, tokenizer, MAX_LEN, BATCH_SIZE)\n",
        "val_data_loader = create_data_loader(df_val, tokenizer, MAX_LEN, BATCH_SIZE)\n",
        "test_data_loader = create_data_loader(df_test, tokenizer, MAX_LEN, BATCH_SIZE)"
      ],
      "execution_count": null,
      "outputs": []
    },
    {
      "cell_type": "markdown",
      "metadata": {
        "id": "B8g1hTd_EJAT"
      },
      "source": [
        "- Initialize model\n"
      ]
    },
    {
      "cell_type": "code",
      "metadata": {
        "id": "HB0rZZCzGG7O",
        "colab": {
          "base_uri": "https://localhost:8080/",
          "height": 116,
          "referenced_widgets": [
            "302b709648774288a65858c3a018030d",
            "a2818c6b3af240caaf255ef74727472d",
            "506f974faca54d62983f0ae5a7de10e1",
            "5f24175bb9fa4962890a66908efce438",
            "d5aac78974214844801adf4919af77ce",
            "7bfb2e0a28c7465cb3198bd23a82898d",
            "f404ca1fd422446394d16d2f7a356ef7",
            "bd98938643164b189d28bf4349f0a719",
            "6f05c5a9fd9b4caf89e49e0f7b7cbb87",
            "4b662b8e6eb047cc9c94ae1671466c25",
            "d9ce669ac11c4bb182e100ba7ce06014",
            "975ad36aaa3a41998094cf786f43df06",
            "bb22edb04fe946c6974392c2d09b9898",
            "f1a173f4f53f4448a82b20e80f0f50d2",
            "40a35512de414b22966dbb2a76c7f970",
            "64b13ee324d74d8e8b3cf16375e515b1"
          ]
        },
        "outputId": "76ec8bef-8300-43b5-d667-d6398d77d245"
      },
      "source": [
        "# Initialize model\n",
        "model = HSClassifier(3).to(device)"
      ],
      "execution_count": null,
      "outputs": [
        {
          "output_type": "display_data",
          "data": {
            "application/vnd.jupyter.widget-view+json": {
              "model_id": "302b709648774288a65858c3a018030d",
              "version_minor": 0,
              "version_major": 2
            },
            "text/plain": [
              "HBox(children=(FloatProgress(value=0.0, description='Downloading', max=433.0, style=ProgressStyle(description_…"
            ]
          },
          "metadata": {
            "tags": []
          }
        },
        {
          "output_type": "stream",
          "text": [
            "\n"
          ],
          "name": "stdout"
        },
        {
          "output_type": "display_data",
          "data": {
            "application/vnd.jupyter.widget-view+json": {
              "model_id": "6f05c5a9fd9b4caf89e49e0f7b7cbb87",
              "version_minor": 0,
              "version_major": 2
            },
            "text/plain": [
              "HBox(children=(FloatProgress(value=0.0, description='Downloading', max=440473133.0, style=ProgressStyle(descri…"
            ]
          },
          "metadata": {
            "tags": []
          }
        },
        {
          "output_type": "stream",
          "text": [
            "\n"
          ],
          "name": "stdout"
        }
      ]
    },
    {
      "cell_type": "markdown",
      "metadata": {
        "id": "o52yRNpbD362"
      },
      "source": [
        "- Set everything optimization related\n",
        "\n"
      ]
    },
    {
      "cell_type": "code",
      "metadata": {
        "id": "v1AHSCmYGG7P",
        "colab": {
          "base_uri": "https://localhost:8080/"
        },
        "outputId": "6aa396e5-21b5-4996-a21b-3f730d26ce9a"
      },
      "source": [
        "#Optimizer & Scheduler\n",
        "optimizer = AdamW(model.parameters(), lr=lr, correct_bias=False)\n",
        "\n",
        "scheduler = get_linear_schedule_with_warmup(\n",
        "  optimizer,\n",
        "  num_warmup_steps=0,\n",
        "  num_training_steps= len(train_data_loader) * EPOCHS\n",
        ")\n",
        "\n",
        "#Weights \n",
        "class_weights = get_weights(df_train, exponent=EXPONENT)\n",
        "print('Class weights: ', class_weights)\n",
        "\n",
        "# The choice of loss is done, as 'This criterion combines LogSoftmax and NLLLoss in one single class'. \n",
        "# given input vector softmay is applied, and then NLLL  loss performed\n",
        "loss_fn = nn.CrossEntropyLoss(weight = class_weights).to(device)"
      ],
      "execution_count": null,
      "outputs": [
        {
          "output_type": "stream",
          "text": [
            "Class weights:  tensor([0.7058, 0.0524, 0.2418])\n"
          ],
          "name": "stdout"
        }
      ]
    },
    {
      "cell_type": "markdown",
      "metadata": {
        "id": "iMDv-TNhEMbT"
      },
      "source": [
        "- Actual optimization procedure"
      ]
    },
    {
      "cell_type": "code",
      "metadata": {
        "scrolled": true,
        "id": "0jhD2qySGG7R",
        "colab": {
          "base_uri": "https://localhost:8080/"
        },
        "outputId": "07626c24-7fe9-449e-f7bd-0482167dcfe5"
      },
      "source": [
        "%%time\n",
        "history = defaultdict(list)\n",
        "best_accuracy = 0\n",
        "\n",
        "for epoch in range(EPOCHS):\n",
        "    print(f'Epoch {epoch + 1}/{EPOCHS}')\n",
        "    print('-' * 10)\n",
        "    train_acc, train_loss = train_epoch(model, train_data_loader, loss_fn, optimizer, device, scheduler, len(df_train))\n",
        "      \n",
        "    print(f'Train loss {train_loss} accuracy {train_acc}')\n",
        "    val_acc, val_loss = eval_model(model, val_data_loader, loss_fn, device, len(df_val))\n",
        "      \n",
        "    print(f'Val   loss {val_loss} accuracy {val_acc}')\n",
        "    print()\n",
        "    \n",
        "    history['train_acc'].append(train_acc)\n",
        "    history['train_loss'].append(train_loss)\n",
        "    history['val_acc'].append(val_acc)\n",
        "    history['val_loss'].append(val_loss)\n",
        "    \n",
        "    if val_acc > best_accuracy:\n",
        "        print(f'Model updated after epoch: {epoch+1} \\n')\n",
        "        torch.save(model.state_dict(), f'models/{NAME}_exp{EXPONENT}_epochs{EPOCHS}_BatchSize{BATCH_SIZE}_best_model_state.bin')\n",
        "        best_accuracy = val_acc\n"
      ],
      "execution_count": null,
      "outputs": [
        {
          "output_type": "stream",
          "text": [
            "Epoch 1/6\n",
            "----------\n",
            "Train loss 0.5995781219113738 accuracy 0.8636638757187531\n",
            "Val   loss 0.5197426372237743 accuracy 0.9011299435028248\n",
            "\n",
            "Model updated after epoch: 1 \n",
            "\n",
            "Epoch 2/6\n",
            "----------\n",
            "Train loss 0.4546806253214938 accuracy 0.915514980328861\n",
            "Val   loss 0.5852200793222554 accuracy 0.9019370460048426\n",
            "\n",
            "Model updated after epoch: 2 \n",
            "\n",
            "Epoch 3/6\n",
            "----------\n",
            "Train loss 0.36721041593268783 accuracy 0.936094017956219\n",
            "Val   loss 0.7145044223916146 accuracy 0.9047619047619048\n",
            "\n",
            "Model updated after epoch: 3 \n",
            "\n",
            "Epoch 4/6\n",
            "----------\n",
            "Train loss 0.2933099114307908 accuracy 0.9578835872087158\n",
            "Val   loss 0.9436980706158905 accuracy 0.9027441485068604\n",
            "\n",
            "Epoch 5/6\n",
            "----------\n",
            "Train loss 0.2405030589799055 accuracy 0.9683244224755371\n",
            "Val   loss 1.133784377008992 accuracy 0.9075867635189668\n",
            "\n",
            "Model updated after epoch: 5 \n",
            "\n",
            "Epoch 6/6\n",
            "----------\n"
          ],
          "name": "stdout"
        }
      ]
    },
    {
      "cell_type": "markdown",
      "metadata": {
        "id": "voCzvv0QP9gO"
      },
      "source": [
        "## Model Evaluation"
      ]
    },
    {
      "cell_type": "code",
      "metadata": {
        "id": "AKKXbs7BGG7R"
      },
      "source": [
        "plt.plot(history['train_acc'], label='train accuracy')\n",
        "plt.plot(history['val_acc'], label='validation accuracy')\n",
        "plt.title('Training history')\n",
        "plt.ylabel('Accuracy')\n",
        "plt.xlabel('Epoch')\n",
        "plt.legend()\n",
        "plt.ylim([0, 1])\n",
        "#plt.yscale('log')\n",
        "plt.show()"
      ],
      "execution_count": null,
      "outputs": []
    },
    {
      "cell_type": "markdown",
      "metadata": {
        "id": "oq_PdVG3BUNZ"
      },
      "source": [
        "- Next we load our best model, as the current state might have overfitted"
      ]
    },
    {
      "cell_type": "code",
      "metadata": {
        "id": "wudQ6QS1BTmO"
      },
      "source": [
        "# load best model from optimization\n",
        "model = HSClassifier(3)\n",
        "model.load_state_dict(torch.load(f'models/{NAME}_exp{EXPONENT}_epochs{EPOCHS}_BatchSize{BATCH_SIZE}_best_model_state.bin'))\n",
        "model = model.to(device)"
      ],
      "execution_count": null,
      "outputs": []
    },
    {
      "cell_type": "code",
      "metadata": {
        "id": "dfCApAE_ShY0"
      },
      "source": [
        "# Test Accuracy\n",
        "test_acc, _ = eval_model(model, test_data_loader, loss_fn, device, len(df_test))\n",
        "print(f'Test Accuracy: {test_acc.item()}')"
      ],
      "execution_count": null,
      "outputs": []
    },
    {
      "cell_type": "markdown",
      "metadata": {
        "id": "2hYSixO-LAB3"
      },
      "source": [
        "- Calculate Scores "
      ]
    },
    {
      "cell_type": "code",
      "metadata": {
        "id": "FB0oBOsuyH4d"
      },
      "source": [
        "# Calculation of relevant scores\n",
        "y_pred, y_test = get_predictions(model, test_data_loader)\n",
        "report = classification_report(y_test, y_pred, target_names=['HS', 'OL', 'NE'], output_dict=True)\n",
        "report_df = pd.DataFrame(report).transpose()\n",
        "report_df.to_csv(f'/content/gdrive/My Drive/HS/data/{NAME}_exp{EXPONENT}_epochs{EPOCHS}_BatchSize{BATCH_SIZE}_Report.csv') \n",
        "\n",
        "report_df"
      ],
      "execution_count": null,
      "outputs": []
    },
    {
      "cell_type": "code",
      "metadata": {
        "id": "IxkHG20G2GWv"
      },
      "source": [
        "cm = confusion_matrix(y_test, y_pred, normalize = 'true')\n",
        "show_confusion_matrix(cm)"
      ],
      "execution_count": null,
      "outputs": []
    },
    {
      "cell_type": "code",
      "metadata": {
        "id": "sZ16eR5AjOxw"
      },
      "source": [
        "#from google.colab import files\n",
        "#files.download(\"data\")\n",
        "#files.download(\"mdodels\")"
      ],
      "execution_count": null,
      "outputs": []
    },
    {
      "cell_type": "code",
      "metadata": {
        "id": "XCcGKW7DEkQl"
      },
      "source": [
        "model_save_name = f'models/{NAME}_exp{EXPONENT}_epochs{EPOCHS}_BatchSize{BATCH_SIZE}_best_model_state.bin'\n",
        "path = f\"/content/gdrive/My Drive/HS/{model_save_name}\" \n",
        "torch.save(model.state_dict(), path)"
      ],
      "execution_count": null,
      "outputs": []
    }
  ]
}